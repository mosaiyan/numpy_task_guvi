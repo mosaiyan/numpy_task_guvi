{
  "nbformat": 4,
  "nbformat_minor": 0,
  "metadata": {
    "colab": {
      "name": "Task_2_Guvi.ipynb",
      "provenance": [],
      "collapsed_sections": []
    },
    "kernelspec": {
      "name": "python3",
      "display_name": "Python 3"
    },
    "language_info": {
      "name": "python"
    }
  },
  "cells": [
    {
      "cell_type": "markdown",
      "source": [
        "**Numpy-Task**"
      ],
      "metadata": {
        "id": "GVn2bpvDREk0"
      }
    },
    {
      "cell_type": "markdown",
      "source": [
        "#### 1. Import the numpy package under the name `np` (★☆☆) \n",
        "(**hint**: import … as …)"
      ],
      "metadata": {
        "id": "BzmFlmlERN0I"
      }
    },
    {
      "cell_type": "code",
      "source": [
        "import numpy as np"
      ],
      "metadata": {
        "id": "MM7stXXrRSyq"
      },
      "execution_count": null,
      "outputs": []
    },
    {
      "cell_type": "markdown",
      "source": [
        "#### 2. Print the numpy version and the configuration (★☆☆) \n",
        "(**hint**: np.\\_\\_version\\_\\_, np.show\\_config)"
      ],
      "metadata": {
        "id": "qXRh8_rbReFG"
      }
    },
    {
      "cell_type": "code",
      "source": [
        "np.__version__,np.show_config"
      ],
      "metadata": {
        "colab": {
          "base_uri": "https://localhost:8080/"
        },
        "id": "9X8ENiPXRiSZ",
        "outputId": "f130583c-2f8d-41b8-ad4b-64e019f830e3"
      },
      "execution_count": null,
      "outputs": [
        {
          "output_type": "execute_result",
          "data": {
            "text/plain": [
              "('1.21.6', <function numpy.__config__.show>)"
            ]
          },
          "metadata": {},
          "execution_count": 2
        }
      ]
    },
    {
      "cell_type": "markdown",
      "source": [
        "#### 3. Create a null vector of size 10 (★☆☆) \n",
        "(**hint**: np.zeros)"
      ],
      "metadata": {
        "id": "1ycwgh1zRzM-"
      }
    },
    {
      "cell_type": "code",
      "source": [
        "arr = np.zeros(10)\n",
        "arr"
      ],
      "metadata": {
        "colab": {
          "base_uri": "https://localhost:8080/"
        },
        "id": "qj_2u0EMR4Yo",
        "outputId": "48c59b2c-7128-4267-c933-5bbe32f39122"
      },
      "execution_count": null,
      "outputs": [
        {
          "output_type": "execute_result",
          "data": {
            "text/plain": [
              "array([0., 0., 0., 0., 0., 0., 0., 0., 0., 0.])"
            ]
          },
          "metadata": {},
          "execution_count": 32
        }
      ]
    },
    {
      "cell_type": "markdown",
      "source": [
        "#### 4.  How to find the memory size of any array (★☆☆) \n",
        "(**hint**: size, itemsize)"
      ],
      "metadata": {
        "id": "YI9ySK6mSeul"
      }
    },
    {
      "cell_type": "code",
      "source": [
        "arr = np.array([500,20,120])  #1-D Array\n",
        "print(\"The memory size of 1-D array:\",arr.nbytes)"
      ],
      "metadata": {
        "colab": {
          "base_uri": "https://localhost:8080/"
        },
        "id": "eLm83m2DTMfJ",
        "outputId": "8027e5c5-5eec-4566-f617-e6343964bb84"
      },
      "execution_count": null,
      "outputs": [
        {
          "output_type": "stream",
          "name": "stdout",
          "text": [
            "The memory size of 1-D array: 24\n"
          ]
        }
      ]
    },
    {
      "cell_type": "code",
      "source": [
        "arr = np.array([[200,300,150],[100,150,170]])\n",
        "print(\"The memory size of 2-D array:\",arr.nbytes)"
      ],
      "metadata": {
        "colab": {
          "base_uri": "https://localhost:8080/"
        },
        "id": "2X0OW6i1T83M",
        "outputId": "d27612cd-6ff0-4549-d32f-58137e927c18"
      },
      "execution_count": null,
      "outputs": [
        {
          "output_type": "stream",
          "name": "stdout",
          "text": [
            "The memory size of 2-D array: 48\n"
          ]
        }
      ]
    },
    {
      "cell_type": "markdown",
      "source": [
        "#### 5.  How to get the documentation of the numpy add function from the command line? (★☆☆) \n",
        "(**hint**: np.info)"
      ],
      "metadata": {
        "id": "c5tdt3aZUh0D"
      }
    },
    {
      "cell_type": "code",
      "source": [
        "np.info(np.add)"
      ],
      "metadata": {
        "id": "BRNupGBnXssR",
        "colab": {
          "base_uri": "https://localhost:8080/"
        },
        "outputId": "71563972-228e-4fd4-94e8-1d6f6b166e03"
      },
      "execution_count": 127,
      "outputs": [
        {
          "output_type": "stream",
          "name": "stdout",
          "text": [
            "add(x1, x2, /, out=None, *, where=True, casting='same_kind', order='K', dtype=None, subok=True[, signature, extobj])\n",
            "\n",
            "Add arguments element-wise.\n",
            "\n",
            "Parameters\n",
            "----------\n",
            "x1, x2 : array_like\n",
            "    The arrays to be added.\n",
            "    If ``x1.shape != x2.shape``, they must be broadcastable to a common\n",
            "    shape (which becomes the shape of the output).\n",
            "out : ndarray, None, or tuple of ndarray and None, optional\n",
            "    A location into which the result is stored. If provided, it must have\n",
            "    a shape that the inputs broadcast to. If not provided or None,\n",
            "    a freshly-allocated array is returned. A tuple (possible only as a\n",
            "    keyword argument) must have length equal to the number of outputs.\n",
            "where : array_like, optional\n",
            "    This condition is broadcast over the input. At locations where the\n",
            "    condition is True, the `out` array will be set to the ufunc result.\n",
            "    Elsewhere, the `out` array will retain its original value.\n",
            "    Note that if an uninitialized `out` array is created via the default\n",
            "    ``out=None``, locations within it where the condition is False will\n",
            "    remain uninitialized.\n",
            "**kwargs\n",
            "    For other keyword-only arguments, see the\n",
            "    :ref:`ufunc docs <ufuncs.kwargs>`.\n",
            "\n",
            "Returns\n",
            "-------\n",
            "add : ndarray or scalar\n",
            "    The sum of `x1` and `x2`, element-wise.\n",
            "    This is a scalar if both `x1` and `x2` are scalars.\n",
            "\n",
            "Notes\n",
            "-----\n",
            "Equivalent to `x1` + `x2` in terms of array broadcasting.\n",
            "\n",
            "Examples\n",
            "--------\n",
            ">>> np.add(1.0, 4.0)\n",
            "5.0\n",
            ">>> x1 = np.arange(9.0).reshape((3, 3))\n",
            ">>> x2 = np.arange(3.0)\n",
            ">>> np.add(x1, x2)\n",
            "array([[  0.,   2.,   4.],\n",
            "       [  3.,   5.,   7.],\n",
            "       [  6.,   8.,  10.]])\n",
            "\n",
            "The ``+`` operator can be used as a shorthand for ``np.add`` on ndarrays.\n",
            "\n",
            ">>> x1 = np.arange(9.0).reshape((3, 3))\n",
            ">>> x2 = np.arange(3.0)\n",
            ">>> x1 + x2\n",
            "array([[ 0.,  2.,  4.],\n",
            "       [ 3.,  5.,  7.],\n",
            "       [ 6.,  8., 10.]])\n"
          ]
        }
      ]
    },
    {
      "cell_type": "markdown",
      "source": [
        "#### 6.  Create a null vector of size 10 but the fifth value which is 1 (★☆☆) \n",
        "(**hint**: array\\[4\\])"
      ],
      "metadata": {
        "id": "AdZmsXItX87Y"
      }
    },
    {
      "cell_type": "code",
      "source": [
        "arr = np.zeros(10)\n",
        "arr[4]=1\n",
        "print(arr)"
      ],
      "metadata": {
        "colab": {
          "base_uri": "https://localhost:8080/"
        },
        "id": "oHUJUnVDYEFi",
        "outputId": "9d750c38-c08e-4040-9e55-22b8397497bd"
      },
      "execution_count": null,
      "outputs": [
        {
          "output_type": "stream",
          "name": "stdout",
          "text": [
            "[0. 0. 0. 0. 1. 0. 0. 0. 0. 0.]\n"
          ]
        }
      ]
    },
    {
      "cell_type": "markdown",
      "source": [
        "#### 7.  Create a vector with values ranging from 10 to 49 (★☆☆) \n",
        "(**hint**: np.arange)"
      ],
      "metadata": {
        "id": "XDYYZPx_Y44T"
      }
    },
    {
      "cell_type": "code",
      "source": [
        "arr = np.arange(10,50)\n",
        "print(arr)"
      ],
      "metadata": {
        "colab": {
          "base_uri": "https://localhost:8080/"
        },
        "id": "WuO80W9QY-i0",
        "outputId": "7c1c4817-f75e-46f5-d3a9-355741fe2a99"
      },
      "execution_count": null,
      "outputs": [
        {
          "output_type": "stream",
          "name": "stdout",
          "text": [
            "[10 11 12 13 14 15 16 17 18 19 20 21 22 23 24 25 26 27 28 29 30 31 32 33\n",
            " 34 35 36 37 38 39 40 41 42 43 44 45 46 47 48 49]\n"
          ]
        }
      ]
    },
    {
      "cell_type": "markdown",
      "source": [
        "#### 8.  Reverse a vector (first element becomes last) (★☆☆) \n",
        "(**hint**: array\\[::-1\\])"
      ],
      "metadata": {
        "id": "i07MAmGQZHgZ"
      }
    },
    {
      "cell_type": "code",
      "source": [
        "print(arr[::-1])"
      ],
      "metadata": {
        "colab": {
          "base_uri": "https://localhost:8080/"
        },
        "id": "q6Ty1X1LaKjR",
        "outputId": "c3e24cc9-b51a-4f87-dc07-b9241ad33140"
      },
      "execution_count": null,
      "outputs": [
        {
          "output_type": "stream",
          "name": "stdout",
          "text": [
            "[49 48 47 46 45 44 43 42 41 40 39 38 37 36 35 34 33 32 31 30 29 28 27 26\n",
            " 25 24 23 22 21 20 19 18 17 16 15 14 13 12 11 10]\n"
          ]
        }
      ]
    },
    {
      "cell_type": "markdown",
      "source": [
        "#### 9.  Create a 3x3 matrix with values ranging from 0 to 8 (★☆☆) \n",
        "(**hint**: reshape)"
      ],
      "metadata": {
        "id": "WhnkTnnXaXEQ"
      }
    },
    {
      "cell_type": "code",
      "source": [
        "arr = np.arange(0,9).reshape(3,3)\n",
        "print(arr)"
      ],
      "metadata": {
        "colab": {
          "base_uri": "https://localhost:8080/"
        },
        "id": "fFYmdWZFaoph",
        "outputId": "fc24c741-0431-4981-f901-87fe8b7af2c5"
      },
      "execution_count": null,
      "outputs": [
        {
          "output_type": "stream",
          "name": "stdout",
          "text": [
            "[[0 1 2]\n",
            " [3 4 5]\n",
            " [6 7 8]]\n"
          ]
        }
      ]
    },
    {
      "cell_type": "markdown",
      "source": [
        "#### 10. Find indices of non-zero elements from \\[1,2,0,0,4,0\\] (★☆☆) \n",
        "(**hint**: np.nonzero)"
      ],
      "metadata": {
        "id": "MijvTmxobugo"
      }
    },
    {
      "cell_type": "code",
      "source": [
        "arr = np.nonzero([1,2,0,0,4,0])\n",
        "print(arr)"
      ],
      "metadata": {
        "colab": {
          "base_uri": "https://localhost:8080/"
        },
        "id": "VOH6sOayT50N",
        "outputId": "4ca0ed0c-3a2b-4536-d7e0-5e466f3f1f38"
      },
      "execution_count": null,
      "outputs": [
        {
          "output_type": "stream",
          "name": "stdout",
          "text": [
            "(array([0, 1, 4]),)\n"
          ]
        }
      ]
    },
    {
      "cell_type": "markdown",
      "source": [
        "#### 11. Create a 3x3 identity matrix (★☆☆) \n",
        "(**hint**: np.eye)"
      ],
      "metadata": {
        "id": "kQZO7h0Vn8Kv"
      }
    },
    {
      "cell_type": "code",
      "source": [
        "arr = np.eye(3,3)\n",
        "print(arr)"
      ],
      "metadata": {
        "colab": {
          "base_uri": "https://localhost:8080/"
        },
        "id": "mrLSFYOKoY2O",
        "outputId": "06ec6083-c0b8-4bea-e384-7f571d590da0"
      },
      "execution_count": null,
      "outputs": [
        {
          "output_type": "stream",
          "name": "stdout",
          "text": [
            "[[1. 0. 0.]\n",
            " [0. 1. 0.]\n",
            " [0. 0. 1.]]\n"
          ]
        }
      ]
    },
    {
      "cell_type": "markdown",
      "source": [
        "#### 12. Create a 3x3x3 array with random values (★☆☆) \n",
        "(**hint**: np.random.random)"
      ],
      "metadata": {
        "id": "blh7Ai5Xo_P-"
      }
    },
    {
      "cell_type": "code",
      "source": [
        "arr = np.random.uniform(3,3,3)\n",
        "print(arr)"
      ],
      "metadata": {
        "colab": {
          "base_uri": "https://localhost:8080/"
        },
        "id": "-C2r99-npDz8",
        "outputId": "104107a1-8dc1-49c9-d40f-3ec69b633393"
      },
      "execution_count": null,
      "outputs": [
        {
          "output_type": "stream",
          "name": "stdout",
          "text": [
            "[3. 3. 3.]\n"
          ]
        }
      ]
    },
    {
      "cell_type": "markdown",
      "source": [
        "#### 13. Create a 10x10 array with random values and find the minimum and maximum values (★☆☆) \n",
        "(**hint**: min, max)"
      ],
      "metadata": {
        "id": "FXBgFGRbdsAg"
      }
    },
    {
      "cell_type": "code",
      "source": [
        "arr = np.random.rand(10,10)\n",
        "arr\n"
      ],
      "metadata": {
        "id": "9iJtE8MEd31J"
      },
      "execution_count": null,
      "outputs": []
    },
    {
      "cell_type": "code",
      "source": [
        "arr_max=np.max(arr)\n",
        "arr_max"
      ],
      "metadata": {
        "colab": {
          "base_uri": "https://localhost:8080/"
        },
        "id": "2r9nOvU9eW-Z",
        "outputId": "ee4e8def-2dad-4b50-90bb-9010fb8764bd"
      },
      "execution_count": null,
      "outputs": [
        {
          "output_type": "execute_result",
          "data": {
            "text/plain": [
              "0.9987457235927536"
            ]
          },
          "metadata": {},
          "execution_count": 11
        }
      ]
    },
    {
      "cell_type": "code",
      "source": [
        "arr_min=np.min(arr)\n",
        "arr_min"
      ],
      "metadata": {
        "colab": {
          "base_uri": "https://localhost:8080/"
        },
        "id": "8uGa8IoiedQ-",
        "outputId": "3e3d302c-6997-4a36-ed72-3e2194589f37"
      },
      "execution_count": null,
      "outputs": [
        {
          "output_type": "execute_result",
          "data": {
            "text/plain": [
              "0.028983846286596227"
            ]
          },
          "metadata": {},
          "execution_count": 12
        }
      ]
    },
    {
      "cell_type": "markdown",
      "source": [
        "#### 14. Create a random vector of size 30 and find the mean value (★☆☆) \n",
        "(**hint**: mean)"
      ],
      "metadata": {
        "id": "ktLtR9ryejvk"
      }
    },
    {
      "cell_type": "code",
      "source": [
        "arr = np.random.rand(30)\n",
        "arr"
      ],
      "metadata": {
        "colab": {
          "base_uri": "https://localhost:8080/"
        },
        "id": "eMtO66qAesu-",
        "outputId": "8d4f8f9c-e165-49bb-d902-5794b8996b8f"
      },
      "execution_count": null,
      "outputs": [
        {
          "output_type": "execute_result",
          "data": {
            "text/plain": [
              "array([0.22424023, 0.762246  , 0.10123608, 0.08860728, 0.93896326,\n",
              "       0.05033164, 0.85731159, 0.20021912, 0.92335471, 0.89439321,\n",
              "       0.733021  , 0.32918671, 0.66930148, 0.99962693, 0.53144711,\n",
              "       0.16444761, 0.81073171, 0.88589979, 0.8001162 , 0.26187941,\n",
              "       0.94047564, 0.97844194, 0.50943203, 0.5990304 , 0.20227403,\n",
              "       0.31615528, 0.47718494, 0.5636523 , 0.09961738, 0.83946611])"
            ]
          },
          "metadata": {},
          "execution_count": 15
        }
      ]
    },
    {
      "cell_type": "code",
      "source": [
        "mean_arr=np.mean(arr)\n",
        "mean_arr"
      ],
      "metadata": {
        "colab": {
          "base_uri": "https://localhost:8080/"
        },
        "id": "eBoMF0Lleym0",
        "outputId": "d801ac7a-0f7c-4836-b106-8b3ca6ed1cfb"
      },
      "execution_count": null,
      "outputs": [
        {
          "output_type": "execute_result",
          "data": {
            "text/plain": [
              "0.5584097044364014"
            ]
          },
          "metadata": {},
          "execution_count": 16
        }
      ]
    },
    {
      "cell_type": "markdown",
      "source": [
        "#### 15. Create a 2d array with 1 on the border and 0 inside (★☆☆) \n",
        "(**hint**: array\\[1:-1, 1:-1\\]"
      ],
      "metadata": {
        "id": "D45t42HgfGeh"
      }
    },
    {
      "cell_type": "code",
      "source": [
        "arr_2d=np.ones((10,10))\n",
        "arr_2d"
      ],
      "metadata": {
        "colab": {
          "base_uri": "https://localhost:8080/"
        },
        "id": "Cp_R7mbJfL41",
        "outputId": "ffa330b9-bfd7-4429-e3fb-e858630b71e4"
      },
      "execution_count": null,
      "outputs": [
        {
          "output_type": "execute_result",
          "data": {
            "text/plain": [
              "array([[1., 1., 1., 1., 1., 1., 1., 1., 1., 1.],\n",
              "       [1., 1., 1., 1., 1., 1., 1., 1., 1., 1.],\n",
              "       [1., 1., 1., 1., 1., 1., 1., 1., 1., 1.],\n",
              "       [1., 1., 1., 1., 1., 1., 1., 1., 1., 1.],\n",
              "       [1., 1., 1., 1., 1., 1., 1., 1., 1., 1.],\n",
              "       [1., 1., 1., 1., 1., 1., 1., 1., 1., 1.],\n",
              "       [1., 1., 1., 1., 1., 1., 1., 1., 1., 1.],\n",
              "       [1., 1., 1., 1., 1., 1., 1., 1., 1., 1.],\n",
              "       [1., 1., 1., 1., 1., 1., 1., 1., 1., 1.],\n",
              "       [1., 1., 1., 1., 1., 1., 1., 1., 1., 1.]])"
            ]
          },
          "metadata": {},
          "execution_count": 20
        }
      ]
    },
    {
      "cell_type": "code",
      "source": [
        "arr_2d[1::-1,1::-1]=0\n",
        "arr_2d"
      ],
      "metadata": {
        "colab": {
          "base_uri": "https://localhost:8080/"
        },
        "id": "Q765uNh-f54_",
        "outputId": "d00a20b1-2764-4f8c-9988-9eb427444bde"
      },
      "execution_count": null,
      "outputs": [
        {
          "output_type": "execute_result",
          "data": {
            "text/plain": [
              "array([[0., 0., 1., 1., 1., 1., 1., 1., 1., 1.],\n",
              "       [0., 0., 1., 1., 1., 1., 1., 1., 1., 1.],\n",
              "       [1., 1., 1., 1., 1., 1., 1., 1., 1., 1.],\n",
              "       [1., 1., 1., 1., 1., 1., 1., 1., 1., 1.],\n",
              "       [1., 1., 1., 1., 1., 1., 1., 1., 1., 1.],\n",
              "       [1., 1., 1., 1., 1., 1., 1., 1., 1., 1.],\n",
              "       [1., 1., 1., 1., 1., 1., 1., 1., 1., 1.],\n",
              "       [1., 1., 1., 1., 1., 1., 1., 1., 1., 1.],\n",
              "       [1., 1., 1., 1., 1., 1., 1., 1., 1., 1.],\n",
              "       [1., 1., 1., 1., 1., 1., 1., 1., 1., 1.]])"
            ]
          },
          "metadata": {},
          "execution_count": 24
        }
      ]
    },
    {
      "cell_type": "markdown",
      "source": [
        "#### 16. How to add a border (filled with 0's) around an existing array? (★☆☆) \n",
        "(**hint**: np.pad)"
      ],
      "metadata": {
        "id": "RwW8OA5LgRsW"
      }
    },
    {
      "cell_type": "code",
      "source": [
        "arr=np.ones((3,3))\n",
        "print(arr)\n",
        "arr_pad=np.pad(arr,pad_width=1,mode=\"constant\",constant_values=0)\n",
        "print(arr_pad)"
      ],
      "metadata": {
        "colab": {
          "base_uri": "https://localhost:8080/"
        },
        "id": "HVDnyRnRgY4g",
        "outputId": "ae890a6f-08a8-4ed3-8762-4f3c345deba0"
      },
      "execution_count": null,
      "outputs": [
        {
          "output_type": "stream",
          "name": "stdout",
          "text": [
            "[[1. 1. 1.]\n",
            " [1. 1. 1.]\n",
            " [1. 1. 1.]]\n",
            "[[0. 0. 0. 0. 0.]\n",
            " [0. 1. 1. 1. 0.]\n",
            " [0. 1. 1. 1. 0.]\n",
            " [0. 1. 1. 1. 0.]\n",
            " [0. 0. 0. 0. 0.]]\n"
          ]
        }
      ]
    },
    {
      "cell_type": "markdown",
      "source": [
        "#### 17. What is the result of the following expression? (★☆☆) \n",
        "(**hint**: NaN = not a number, inf = infinity)"
      ],
      "metadata": {
        "id": "YppJnKJQg-oR"
      }
    },
    {
      "cell_type": "code",
      "source": [
        "print(0 * np.nan)\n",
        "print(np.nan == np.nan)\n",
        "print(np.inf > np.nan)\n",
        "print(np.nan - np.nan)\n",
        "print(0.3 == 3 * 0.1)"
      ],
      "metadata": {
        "colab": {
          "base_uri": "https://localhost:8080/"
        },
        "id": "9QbcYybZhBbI",
        "outputId": "8fcbdaaa-4912-426e-fdad-327b3eb83c09"
      },
      "execution_count": null,
      "outputs": [
        {
          "output_type": "stream",
          "name": "stdout",
          "text": [
            "nan\n",
            "False\n",
            "False\n",
            "nan\n",
            "False\n"
          ]
        }
      ]
    },
    {
      "cell_type": "markdown",
      "source": [
        "#### 18. Create a 5x5 matrix with values 1,2,3,4 just below the diagonal (★☆☆) \n",
        "(**hint**: np.diag)"
      ],
      "metadata": {
        "id": "uBm_Hgl_hrJY"
      }
    },
    {
      "cell_type": "code",
      "source": [
        "arr_diag = np.diag(1+np.arange(4),k=-1)\n",
        "arr_diag"
      ],
      "metadata": {
        "colab": {
          "base_uri": "https://localhost:8080/"
        },
        "id": "4lShhPLQhxxf",
        "outputId": "c730c27b-b5a9-413e-9539-c44733e04f09"
      },
      "execution_count": null,
      "outputs": [
        {
          "output_type": "execute_result",
          "data": {
            "text/plain": [
              "array([[0, 0, 0, 0, 0],\n",
              "       [1, 0, 0, 0, 0],\n",
              "       [0, 2, 0, 0, 0],\n",
              "       [0, 0, 3, 0, 0],\n",
              "       [0, 0, 0, 4, 0]])"
            ]
          },
          "metadata": {},
          "execution_count": 30
        }
      ]
    },
    {
      "cell_type": "markdown",
      "source": [
        "#### 19. Create a 8x8 matrix and fill it with a checkerboard pattern (★☆☆) \n",
        "(**hint**: array\\[::2\\])"
      ],
      "metadata": {
        "id": "MCCmVD4wiG6C"
      }
    },
    {
      "cell_type": "code",
      "source": [
        "arr_mat = np.zeros((8,8),dtype=int)\n",
        "arr_mat"
      ],
      "metadata": {
        "colab": {
          "base_uri": "https://localhost:8080/"
        },
        "id": "LkriW7PaiMKT",
        "outputId": "e01b8f2f-f5c3-4abd-85be-aecb8d3c11f0"
      },
      "execution_count": null,
      "outputs": [
        {
          "output_type": "execute_result",
          "data": {
            "text/plain": [
              "array([[0, 0, 0, 0, 0, 0, 0, 0],\n",
              "       [0, 0, 0, 0, 0, 0, 0, 0],\n",
              "       [0, 0, 0, 0, 0, 0, 0, 0],\n",
              "       [0, 0, 0, 0, 0, 0, 0, 0],\n",
              "       [0, 0, 0, 0, 0, 0, 0, 0],\n",
              "       [0, 0, 0, 0, 0, 0, 0, 0],\n",
              "       [0, 0, 0, 0, 0, 0, 0, 0],\n",
              "       [0, 0, 0, 0, 0, 0, 0, 0]])"
            ]
          },
          "metadata": {},
          "execution_count": 32
        }
      ]
    },
    {
      "cell_type": "code",
      "source": [
        "arr_mat[1::2,::2]=1\n",
        "arr_mat[::2,1::2]=1\n",
        "arr_mat"
      ],
      "metadata": {
        "colab": {
          "base_uri": "https://localhost:8080/"
        },
        "id": "KVQkjqhQihPe",
        "outputId": "49a5d45c-b558-46f2-b3ae-e3b41463b343"
      },
      "execution_count": null,
      "outputs": [
        {
          "output_type": "execute_result",
          "data": {
            "text/plain": [
              "array([[0, 1, 0, 1, 0, 1, 0, 1],\n",
              "       [1, 0, 1, 0, 1, 0, 1, 0],\n",
              "       [0, 1, 0, 1, 0, 1, 0, 1],\n",
              "       [1, 0, 1, 0, 1, 0, 1, 0],\n",
              "       [0, 1, 0, 1, 0, 1, 0, 1],\n",
              "       [1, 0, 1, 0, 1, 0, 1, 0],\n",
              "       [0, 1, 0, 1, 0, 1, 0, 1],\n",
              "       [1, 0, 1, 0, 1, 0, 1, 0]])"
            ]
          },
          "metadata": {},
          "execution_count": 33
        }
      ]
    },
    {
      "cell_type": "markdown",
      "source": [
        "#### 20. Consider a (6,7,8) shape array, what is the index (x,y,z) of the 100th element? \n",
        "(**hint**: np.unravel_index)"
      ],
      "metadata": {
        "id": "Pf579MMcir-n"
      }
    },
    {
      "cell_type": "code",
      "source": [
        "print(np.unravel_index(100,(6,7,8)))"
      ],
      "metadata": {
        "colab": {
          "base_uri": "https://localhost:8080/"
        },
        "id": "o3679CNtiwGX",
        "outputId": "edd3a24e-f935-41eb-9187-ab8848a25974"
      },
      "execution_count": null,
      "outputs": [
        {
          "output_type": "stream",
          "name": "stdout",
          "text": [
            "(1, 5, 4)\n"
          ]
        }
      ]
    },
    {
      "cell_type": "markdown",
      "source": [
        "#### 21. Create a checkerboard 8x8 matrix using the tile function (★☆☆) \n",
        "(**hint**: np.tile)"
      ],
      "metadata": {
        "id": "MClyTCMlNLts"
      }
    },
    {
      "cell_type": "code",
      "source": [
        "arr1=np.array([[0,1],[1,0]])\n",
        "arr=np.tile(arr1,(4,4))\n",
        "print(arr)"
      ],
      "metadata": {
        "colab": {
          "base_uri": "https://localhost:8080/"
        },
        "id": "ZI6yghNBNMlj",
        "outputId": "9cbc8351-58e3-4bfa-8d2c-c6240b87fa81"
      },
      "execution_count": null,
      "outputs": [
        {
          "output_type": "stream",
          "name": "stdout",
          "text": [
            "[[0 1 0 1 0 1 0 1]\n",
            " [1 0 1 0 1 0 1 0]\n",
            " [0 1 0 1 0 1 0 1]\n",
            " [1 0 1 0 1 0 1 0]\n",
            " [0 1 0 1 0 1 0 1]\n",
            " [1 0 1 0 1 0 1 0]\n",
            " [0 1 0 1 0 1 0 1]\n",
            " [1 0 1 0 1 0 1 0]]\n"
          ]
        }
      ]
    },
    {
      "cell_type": "markdown",
      "source": [
        "#### 22. Normalize a 5x5 random matrix (★☆☆) \n",
        "(**hint**: (x - min) / (max - min))"
      ],
      "metadata": {
        "id": "SB1yNI91OGa2"
      }
    },
    {
      "cell_type": "code",
      "source": [
        "arr = np.random.rand(5,5)\n",
        "arr"
      ],
      "metadata": {
        "colab": {
          "base_uri": "https://localhost:8080/"
        },
        "id": "IWbkuXbbOm59",
        "outputId": "1154b63d-2512-42b1-a883-aedec968326e"
      },
      "execution_count": null,
      "outputs": [
        {
          "output_type": "execute_result",
          "data": {
            "text/plain": [
              "array([[0.12981051, 0.0685533 , 0.45376148, 0.23317522, 0.8607931 ],\n",
              "       [0.79174123, 0.86609637, 0.34297865, 0.52512926, 0.08587674],\n",
              "       [0.77952059, 0.45103428, 0.33541101, 0.95318009, 0.03904343],\n",
              "       [0.7746359 , 0.04569001, 0.52178337, 0.9182304 , 0.45349244],\n",
              "       [0.47236183, 0.54036686, 0.91959756, 0.98978764, 0.41952177]])"
            ]
          },
          "metadata": {},
          "execution_count": 6
        }
      ]
    },
    {
      "cell_type": "code",
      "source": [
        "arr_min=np.min(arr)\n",
        "arr_min\n",
        "arr_max=np.max(arr)\n",
        "arr_max"
      ],
      "metadata": {
        "colab": {
          "base_uri": "https://localhost:8080/"
        },
        "id": "Fv107dzpPM3E",
        "outputId": "6a321f00-51b8-4a84-f0b5-bfc657352a36"
      },
      "execution_count": null,
      "outputs": [
        {
          "output_type": "execute_result",
          "data": {
            "text/plain": [
              "0.9897876364983458"
            ]
          },
          "metadata": {},
          "execution_count": 9
        }
      ]
    },
    {
      "cell_type": "code",
      "source": [
        "arr_x=((arr_min-arr)/(arr_max-arr_min))\n",
        "arr_x"
      ],
      "metadata": {
        "colab": {
          "base_uri": "https://localhost:8080/"
        },
        "id": "ZaQbactAPatT",
        "outputId": "cd2dfed1-56bc-49b9-fa5f-dd6afe10bb1d"
      },
      "execution_count": null,
      "outputs": [
        {
          "output_type": "execute_result",
          "data": {
            "text/plain": [
              "array([[-0.09546951, -0.03103871, -0.43620361, -0.20418929, -0.86432257],\n",
              "       [-0.79169328, -0.86990058, -0.31968138, -0.51126878, -0.04925963],\n",
              "       [-0.77883952, -0.43333512, -0.31172167, -0.96149591,  0.        ],\n",
              "       [-0.77370176, -0.00699092, -0.50774954, -0.92473555, -0.43592062],\n",
              "       [-0.45576759, -0.52729581, -0.92617354, -1.        , -0.40019002]])"
            ]
          },
          "metadata": {},
          "execution_count": 10
        }
      ]
    },
    {
      "cell_type": "markdown",
      "source": [
        "#### 23. Create a custom dtype that describes a color as four unsigned bytes (RGBA) (★☆☆) \n",
        "(**hint**: np.dtype)"
      ],
      "metadata": {
        "id": "LBOcw8DzPqNE"
      }
    },
    {
      "cell_type": "code",
      "source": [
        "color_arr=np.dtype([(\"r\",np.ubyte,1),\n",
        "                    (\"g\",np.ubyte,1),\n",
        "                    (\"b\",np.ubyte,1),\n",
        "                    (\"a\",np.ubyte,1)])\n",
        "color_arr"
      ],
      "metadata": {
        "colab": {
          "base_uri": "https://localhost:8080/"
        },
        "id": "FrXoFjSZPzu5",
        "outputId": "ef73b4d9-a944-46a4-d326-57962b31ad39"
      },
      "execution_count": null,
      "outputs": [
        {
          "output_type": "stream",
          "name": "stderr",
          "text": [
            "/usr/local/lib/python3.7/dist-packages/ipykernel_launcher.py:4: FutureWarning: Passing (type, 1) or '1type' as a synonym of type is deprecated; in a future version of numpy, it will be understood as (type, (1,)) / '(1,)type'.\n",
            "  after removing the cwd from sys.path.\n"
          ]
        },
        {
          "output_type": "execute_result",
          "data": {
            "text/plain": [
              "dtype([('r', 'u1'), ('g', 'u1'), ('b', 'u1'), ('a', 'u1')])"
            ]
          },
          "metadata": {},
          "execution_count": 16
        }
      ]
    },
    {
      "cell_type": "markdown",
      "source": [
        "#### 24. Multiply a 5x3 matrix by a 3x2 matrix (real matrix product) (★☆☆) \n",
        "(**hint**: np.dot | @)"
      ],
      "metadata": {
        "id": "u5JR2_-NSgVO"
      }
    },
    {
      "cell_type": "code",
      "source": [
        "arr=np.dot(np.ones((5,3)),np.ones((3,2)))  #np.dot\n",
        "print(arr)"
      ],
      "metadata": {
        "colab": {
          "base_uri": "https://localhost:8080/"
        },
        "id": "wxvXL5XEShad",
        "outputId": "cc960711-a479-4a18-e7a1-d0fb998a2fbd"
      },
      "execution_count": null,
      "outputs": [
        {
          "output_type": "stream",
          "name": "stdout",
          "text": [
            "[[3. 3.]\n",
            " [3. 3.]\n",
            " [3. 3.]\n",
            " [3. 3.]\n",
            " [3. 3.]]\n"
          ]
        }
      ]
    },
    {
      "cell_type": "code",
      "source": [
        "arr=np.ones((5,3)) @ np.ones((3,2))\n",
        "print(arr)"
      ],
      "metadata": {
        "colab": {
          "base_uri": "https://localhost:8080/"
        },
        "id": "nCHxU-pLTA-n",
        "outputId": "8cb4f18a-daeb-463a-c35d-547bc7f70cd6"
      },
      "execution_count": null,
      "outputs": [
        {
          "output_type": "stream",
          "name": "stdout",
          "text": [
            "[[3. 3.]\n",
            " [3. 3.]\n",
            " [3. 3.]\n",
            " [3. 3.]\n",
            " [3. 3.]]\n"
          ]
        }
      ]
    },
    {
      "cell_type": "markdown",
      "source": [
        "#### 25. Given a 1D array, negate all elements which are between 3 and 8, in place. (★☆☆) \n",
        "(**hint**: >, <=)"
      ],
      "metadata": {
        "id": "7LDKkA7LTI5I"
      }
    },
    {
      "cell_type": "code",
      "source": [
        "arr_1d=np.arange(9)\n",
        "arr_1d[(3>arr_1d)&(8<=arr_1d)]*=-1\n",
        "print(arr_1d)"
      ],
      "metadata": {
        "colab": {
          "base_uri": "https://localhost:8080/"
        },
        "id": "uSjmD-omTRPj",
        "outputId": "10e266d2-a697-4d1c-96d0-843cf88858b1"
      },
      "execution_count": null,
      "outputs": [
        {
          "output_type": "stream",
          "name": "stdout",
          "text": [
            "[0 1 2 3 4 5 6 7 8]\n"
          ]
        }
      ]
    },
    {
      "cell_type": "markdown",
      "source": [
        "#### 26. What is the output of the following script? (★☆☆) \n",
        "(**hint**: np.sum)"
      ],
      "metadata": {
        "id": "2jF6L6dYUZRS"
      }
    },
    {
      "cell_type": "code",
      "source": [
        "print(sum(range(8),-1))\n",
        "#from numpy import *\n",
        "#print(sum(range(8),-1))"
      ],
      "metadata": {
        "colab": {
          "base_uri": "https://localhost:8080/"
        },
        "id": "sm4Rh-IOUYXO",
        "outputId": "ef353707-58e9-496d-e73d-c052a379dc0c"
      },
      "execution_count": null,
      "outputs": [
        {
          "output_type": "stream",
          "name": "stdout",
          "text": [
            "28\n"
          ]
        }
      ]
    },
    {
      "cell_type": "code",
      "source": [
        "print(sum(range(5),-1))\n",
        "from numpy import *\n",
        "print(sum(range(5),-1))"
      ],
      "metadata": {
        "colab": {
          "base_uri": "https://localhost:8080/"
        },
        "id": "_CvEMlXVU8g7",
        "outputId": "75f5f41e-af45-4113-cf79-e07939eaf9a4"
      },
      "execution_count": null,
      "outputs": [
        {
          "output_type": "stream",
          "name": "stdout",
          "text": [
            "10\n",
            "10\n"
          ]
        }
      ]
    },
    {
      "cell_type": "markdown",
      "source": [
        "#### 27. Consider an integer vector Z, which of these expressions are legal? (★☆☆)"
      ],
      "metadata": {
        "id": "sfXmRmi6U2RP"
      }
    },
    {
      "cell_type": "code",
      "source": [
        "Z**Z\n",
        "2 << Z >> 2\n",
        "Z <- Z\n",
        "1j*Z\n",
        "Z/1/1\n",
        "Z<Z>Z"
      ],
      "metadata": {
        "id": "oK5NLozWU3Zf"
      },
      "execution_count": 66,
      "outputs": []
    },
    {
      "cell_type": "code",
      "source": [
        "Z<Z>Z"
      ],
      "metadata": {
        "id": "X9054woLU8bZ",
        "colab": {
          "base_uri": "https://localhost:8080/"
        },
        "outputId": "7e9b63ec-439b-4bdc-ac76-9ee9e5f0741c"
      },
      "execution_count": 67,
      "outputs": [
        {
          "output_type": "execute_result",
          "data": {
            "text/plain": [
              "array([False])"
            ]
          },
          "metadata": {},
          "execution_count": 67
        }
      ]
    },
    {
      "cell_type": "markdown",
      "source": [
        "#### 28. What are the result of the following expressions?"
      ],
      "metadata": {
        "id": "wF45lOZ8VPci"
      }
    },
    {
      "cell_type": "code",
      "source": [
        "print(np.array(0)/np.array(0))\n",
        "print(np.array(0)//np.array(0))\n",
        "print(np.array([np.nan]).astype(int).astype(float))"
      ],
      "metadata": {
        "colab": {
          "base_uri": "https://localhost:8080/"
        },
        "id": "B_bvWyAYVVH8",
        "outputId": "4ba00694-2712-424f-d5c0-60c3ee7d12d7"
      },
      "execution_count": null,
      "outputs": [
        {
          "output_type": "stream",
          "name": "stdout",
          "text": [
            "nan\n",
            "0\n",
            "[-9.22337204e+18]\n"
          ]
        },
        {
          "output_type": "stream",
          "name": "stderr",
          "text": [
            "/usr/local/lib/python3.7/dist-packages/ipykernel_launcher.py:1: RuntimeWarning: invalid value encountered in true_divide\n",
            "  \"\"\"Entry point for launching an IPython kernel.\n",
            "/usr/local/lib/python3.7/dist-packages/ipykernel_launcher.py:2: RuntimeWarning: divide by zero encountered in floor_divide\n",
            "  \n"
          ]
        }
      ]
    },
    {
      "cell_type": "markdown",
      "source": [
        "#### 29. How to round away from zero a float array ? (★☆☆) \n",
        "(**hint**: np.uniform, np.copysign, np.ceil, np.abs)"
      ],
      "metadata": {
        "id": "mA7ftefPV5Vy"
      }
    },
    {
      "cell_type": "code",
      "source": [
        "arr=np.random.uniform(-10,+10,10)\n",
        "print(np.copysign(np.ceil(np.abs(arr)),arr))"
      ],
      "metadata": {
        "colab": {
          "base_uri": "https://localhost:8080/"
        },
        "id": "BFpsvqxpV9eD",
        "outputId": "de51e67e-c9ee-46b0-a7b0-50b9dbb819c6"
      },
      "execution_count": null,
      "outputs": [
        {
          "output_type": "stream",
          "name": "stdout",
          "text": [
            "[-5.  9. -7.  8.  8.  3. -2. -9. 10.  8.]\n"
          ]
        }
      ]
    },
    {
      "cell_type": "markdown",
      "source": [
        "#### 30. How to find common values between two arrays? (★☆☆) \n",
        "(**hint**: np.intersect1d)"
      ],
      "metadata": {
        "id": "m65BKh79WZoj"
      }
    },
    {
      "cell_type": "code",
      "source": [
        "arr_1=np.random.randint(5,50,30)\n",
        "arr_2=np.random.randint(5,50,30)\n",
        "print(np.intersect1d(arr_1,arr_2))"
      ],
      "metadata": {
        "colab": {
          "base_uri": "https://localhost:8080/"
        },
        "id": "qV19DYwkWfJG",
        "outputId": "2625656d-6e09-4103-d2db-6e3c0e86951d"
      },
      "execution_count": null,
      "outputs": [
        {
          "output_type": "stream",
          "name": "stdout",
          "text": [
            "[14 16 18 21 23 26 30 35 47]\n"
          ]
        }
      ]
    },
    {
      "cell_type": "markdown",
      "source": [
        "#### 31. How to ignore all numpy warnings (not recommended)? (★☆☆) \n",
        "(**hint**: np.seterr, np.errstate)"
      ],
      "metadata": {
        "id": "awBHIbbtW-ax"
      }
    },
    {
      "cell_type": "code",
      "source": [
        "seterr=np.seterr(all=\"ignore\")\n",
        "arr=np.ones(1)/0\n",
        "seterr_=np.seterr(**seterr)"
      ],
      "metadata": {
        "id": "1cOAFHJ9X04K"
      },
      "execution_count": null,
      "outputs": []
    },
    {
      "cell_type": "code",
      "source": [
        "with np.errstate(divide=\"ignore\"):\n",
        "  arr=np.ones(1)/0"
      ],
      "metadata": {
        "id": "lXVWbU9qYPfh"
      },
      "execution_count": null,
      "outputs": []
    },
    {
      "cell_type": "markdown",
      "source": [
        " 32. Is the following expressions true? (★☆☆) \n",
        "(**hint**: imaginary number)"
      ],
      "metadata": {
        "id": "jW_joIGpYk1g"
      }
    },
    {
      "cell_type": "code",
      "source": [
        "np.sqrt(-1) == np.emath.sqrt(-1)\n",
        "#No it is not True"
      ],
      "metadata": {
        "colab": {
          "base_uri": "https://localhost:8080/"
        },
        "id": "h6vZPSymYpMm",
        "outputId": "3eeb2e4c-f78b-4d60-d6d0-53757c0b9fe9"
      },
      "execution_count": null,
      "outputs": [
        {
          "output_type": "stream",
          "name": "stderr",
          "text": [
            "/usr/local/lib/python3.7/dist-packages/ipykernel_launcher.py:1: RuntimeWarning: invalid value encountered in sqrt\n",
            "  \"\"\"Entry point for launching an IPython kernel.\n"
          ]
        },
        {
          "output_type": "execute_result",
          "data": {
            "text/plain": [
              "False"
            ]
          },
          "metadata": {},
          "execution_count": 15
        }
      ]
    },
    {
      "cell_type": "markdown",
      "source": [
        "#### 33. How to get the dates of yesterday, today and tomorrow? (★☆☆) \n",
        "(**hint**: np.datetime64, np.timedelta64)"
      ],
      "metadata": {
        "id": "Ykkj13iMZYkW"
      }
    },
    {
      "cell_type": "code",
      "source": [
        "yesterday=np.datetime64(\"today\",\"D\")-np.timedelta64(1,\"D\")\n",
        "today=np.datetime64(\"today\",\"D\")\n",
        "tomorrow=np.datetime64(\"today\",\"D\")+np.timedelta64(1,\"D\")\n",
        "print(\"The Dates of yesterday:\",yesterday)\n",
        "print(\"The Dates of today:\",today)\n",
        "print(\"The Dates of tomorrow:\",tomorrow)"
      ],
      "metadata": {
        "colab": {
          "base_uri": "https://localhost:8080/"
        },
        "id": "67z1XTBeZeDz",
        "outputId": "88871fc7-a65e-4790-f224-0a634136b199"
      },
      "execution_count": null,
      "outputs": [
        {
          "output_type": "stream",
          "name": "stdout",
          "text": [
            "The Dates of yesterday: 2022-07-21\n",
            "The Dates of today: 2022-07-22\n",
            "The Dates of tomorrow: 2022-07-23\n"
          ]
        }
      ]
    },
    {
      "cell_type": "markdown",
      "source": [
        "#### 34. How to get all the dates corresponding to the month of July 2016? (★★☆) "
      ],
      "metadata": {
        "id": "9M5MH64naWIf"
      }
    },
    {
      "cell_type": "code",
      "source": [
        "july2016=np.arange(\"2016-07\",\"2016-08\",dtype=\"datetime64[D]\")\n",
        "july2016"
      ],
      "metadata": {
        "colab": {
          "base_uri": "https://localhost:8080/"
        },
        "id": "DDMcxRNDaan4",
        "outputId": "e9e20ab5-00af-4777-a134-5f7097a521c7"
      },
      "execution_count": null,
      "outputs": [
        {
          "output_type": "execute_result",
          "data": {
            "text/plain": [
              "array(['2016-07-01', '2016-07-02', '2016-07-03', '2016-07-04',\n",
              "       '2016-07-05', '2016-07-06', '2016-07-07', '2016-07-08',\n",
              "       '2016-07-09', '2016-07-10', '2016-07-11', '2016-07-12',\n",
              "       '2016-07-13', '2016-07-14', '2016-07-15', '2016-07-16',\n",
              "       '2016-07-17', '2016-07-18', '2016-07-19', '2016-07-20',\n",
              "       '2016-07-21', '2016-07-22', '2016-07-23', '2016-07-24',\n",
              "       '2016-07-25', '2016-07-26', '2016-07-27', '2016-07-28',\n",
              "       '2016-07-29', '2016-07-30', '2016-07-31'], dtype='datetime64[D]')"
            ]
          },
          "metadata": {},
          "execution_count": 19
        }
      ]
    },
    {
      "cell_type": "markdown",
      "source": [
        "#### 35. How to compute ((A+B)\\*(-A/2)) in place (without copy)? (★★☆) \n",
        "(**hint**: np.add(out=), np.negative(out=), np.multiply(out=), np.divide(out=))"
      ],
      "metadata": {
        "id": "LTFHwBkCbPGl"
      }
    },
    {
      "cell_type": "code",
      "source": [
        "a=np.ones(5)*1\n",
        "b=np.ones(5)*2\n",
        "c=np.ones(5)*3\n",
        "np.add(a,b,out=b)\n",
        "np.negative(a,out=a)\n",
        "np.multiply(a,b,out=a)\n",
        "np.divide(a,2,out=a)"
      ],
      "metadata": {
        "colab": {
          "base_uri": "https://localhost:8080/"
        },
        "id": "r22IOO1bbTUV",
        "outputId": "f8842e2a-7450-476e-d9b9-5e6f06446f4d"
      },
      "execution_count": null,
      "outputs": [
        {
          "output_type": "execute_result",
          "data": {
            "text/plain": [
              "array([-1.5, -1.5, -1.5, -1.5, -1.5])"
            ]
          },
          "metadata": {},
          "execution_count": 21
        }
      ]
    },
    {
      "cell_type": "markdown",
      "source": [
        "#### 36. Extract the integer part of a random array using 5 different methods (★★☆) \n",
        "(**hint**: %, np.floor, np.ceil, astype, np.trunc)"
      ],
      "metadata": {
        "id": "e8V2CsT4ZPTX"
      }
    },
    {
      "cell_type": "code",
      "source": [
        "arr=np.random.uniform(0,20,20)\n",
        "print(arr-arr%1)\n",
        "print(np.floor(arr))\n",
        "print(np.ceil(arr))\n",
        "print(arr.astype(float))\n",
        "print(np.trunc(arr))"
      ],
      "metadata": {
        "colab": {
          "base_uri": "https://localhost:8080/"
        },
        "id": "0pMP0wJ5cHjy",
        "outputId": "8f4ec5b6-9370-410c-d5c5-4d53f5b9cd53"
      },
      "execution_count": null,
      "outputs": [
        {
          "output_type": "stream",
          "name": "stdout",
          "text": [
            "[ 1.  6.  3.  7.  6. 14.  5.  3.  5.  6. 10. 13.  2.  1. 12. 16.  2.  3.\n",
            "  4.  3.]\n",
            "[ 1.  6.  3.  7.  6. 14.  5.  3.  5.  6. 10. 13.  2.  1. 12. 16.  2.  3.\n",
            "  4.  3.]\n",
            "[ 2.  7.  4.  8.  7. 15.  6.  4.  6.  7. 11. 14.  3.  2. 13. 17.  3.  4.\n",
            "  5.  4.]\n",
            "[ 1.23186547  6.92119581  3.46612521  7.60742389  6.62250096 14.88111677\n",
            "  5.45835157  3.255334    5.56924646  6.17912774 10.38635031 13.17535592\n",
            "  2.77213879  1.82268844 12.10785769 16.68844957  2.29495876  3.65006442\n",
            "  4.19842137  3.85440022]\n",
            "[ 1.  6.  3.  7.  6. 14.  5.  3.  5.  6. 10. 13.  2.  1. 12. 16.  2.  3.\n",
            "  4.  3.]\n"
          ]
        }
      ]
    },
    {
      "cell_type": "markdown",
      "source": [
        "#### 37. Create a 5x5 matrix with row values ranging from 0 to 4 (★★☆) \n",
        "(**hint**: np.arange)"
      ],
      "metadata": {
        "id": "RXxWTEmAZDwU"
      }
    },
    {
      "cell_type": "code",
      "source": [
        "arr=np.zeros((5,5))\n",
        "arr +=np.arange(5)\n",
        "print(arr)"
      ],
      "metadata": {
        "colab": {
          "base_uri": "https://localhost:8080/"
        },
        "id": "tAw8XJD1cyC8",
        "outputId": "e7b9a90d-1222-4977-c842-e023888373ef"
      },
      "execution_count": null,
      "outputs": [
        {
          "output_type": "stream",
          "name": "stdout",
          "text": [
            "[[0. 1. 2. 3. 4.]\n",
            " [0. 1. 2. 3. 4.]\n",
            " [0. 1. 2. 3. 4.]\n",
            " [0. 1. 2. 3. 4.]\n",
            " [0. 1. 2. 3. 4.]]\n"
          ]
        }
      ]
    },
    {
      "cell_type": "markdown",
      "source": [
        "#### 38. Consider a generator function that generates 10 integers and use it to build an array (★☆☆) \n",
        "(**hint**: np.fromiter)"
      ],
      "metadata": {
        "id": "4HpFTA3Tdl74"
      }
    },
    {
      "cell_type": "code",
      "source": [
        "def generate():\n",
        "  for i in range(10):\n",
        "    yield i\n",
        "\n",
        "arr=np.fromiter(generate(),dtype=float,count=-1)\n",
        "print(arr)"
      ],
      "metadata": {
        "colab": {
          "base_uri": "https://localhost:8080/"
        },
        "id": "xXyCMJdvdqhF",
        "outputId": "a0741383-5170-4cd7-e2c6-2ccd4dca7e6d"
      },
      "execution_count": null,
      "outputs": [
        {
          "output_type": "stream",
          "name": "stdout",
          "text": [
            "[0. 1. 2. 3. 4. 5. 6. 7. 8. 9.]\n"
          ]
        }
      ]
    },
    {
      "cell_type": "markdown",
      "source": [
        "#### 39. Create a vector of size 10 with values ranging from 0 to 1, both excluded (★★☆) \n",
        "(**hint**: np.linspace)"
      ],
      "metadata": {
        "id": "l52bwM3GeH_C"
      }
    },
    {
      "cell_type": "code",
      "source": [
        "arr=np.linspace(0,2,22,endpoint=False)[1:]\n",
        "print(arr)     "
      ],
      "metadata": {
        "colab": {
          "base_uri": "https://localhost:8080/"
        },
        "id": "DPLWzvAXeNop",
        "outputId": "45749c5e-d652-4f92-f376-31cba1e7db2c"
      },
      "execution_count": null,
      "outputs": [
        {
          "output_type": "stream",
          "name": "stdout",
          "text": [
            "[0.09090909 0.18181818 0.27272727 0.36363636 0.45454545 0.54545455\n",
            " 0.63636364 0.72727273 0.81818182 0.90909091 1.         1.09090909\n",
            " 1.18181818 1.27272727 1.36363636 1.45454545 1.54545455 1.63636364\n",
            " 1.72727273 1.81818182 1.90909091]\n"
          ]
        }
      ]
    },
    {
      "cell_type": "markdown",
      "source": [
        "#### 40. Create a random vector of size 10 and sort it (★★☆) \n",
        "(**hint**: sort)"
      ],
      "metadata": {
        "id": "9fvxnS3_ej7H"
      }
    },
    {
      "cell_type": "code",
      "source": [
        "arr=np.random.random(10)\n",
        "arr.sort()\n",
        "print(arr)"
      ],
      "metadata": {
        "colab": {
          "base_uri": "https://localhost:8080/"
        },
        "id": "HvNS6RnEeob3",
        "outputId": "945bc44b-152e-48a2-f205-d1962c98f061"
      },
      "execution_count": null,
      "outputs": [
        {
          "output_type": "stream",
          "name": "stdout",
          "text": [
            "[0.06514628 0.16067847 0.28728902 0.45858603 0.6119154  0.72709853\n",
            " 0.78269366 0.80077488 0.91067041 0.96507033]\n"
          ]
        }
      ]
    },
    {
      "cell_type": "markdown",
      "source": [
        "#### 41. How to sum a small array faster than np.sum? (★★☆) \n",
        "(**hint**: np.add.reduce)"
      ],
      "metadata": {
        "id": "xMYFYd_L9Bo4"
      }
    },
    {
      "cell_type": "code",
      "source": [
        "arr=np.arange(20)\n",
        "print(np.add.reduce(arr))"
      ],
      "metadata": {
        "colab": {
          "base_uri": "https://localhost:8080/"
        },
        "id": "-5e3n98j9HEk",
        "outputId": "560443f4-b73a-49dd-882c-f792ebe35c96"
      },
      "execution_count": null,
      "outputs": [
        {
          "output_type": "stream",
          "name": "stdout",
          "text": [
            "190\n"
          ]
        }
      ]
    },
    {
      "cell_type": "markdown",
      "source": [
        "#### 42. Consider two random array A and B, check if they are equal (★★☆) \n",
        "(**hint**: np.allclose, np.array\\_equal)"
      ],
      "metadata": {
        "id": "1arTd0BZ-eVE"
      }
    },
    {
      "cell_type": "code",
      "source": [
        "A=np.random.randint(0,3,7)\n",
        "B=np.random.randint(0,3,7)\n",
        "equal=np.allclose(A,B)\n",
        "print(equal)\n",
        "arr_equal=np.array_equal(A,B)\n",
        "print(arr_equal)"
      ],
      "metadata": {
        "colab": {
          "base_uri": "https://localhost:8080/"
        },
        "id": "c3RUmMzo-wrT",
        "outputId": "805ffff2-9161-4135-e002-1aad5613e6c0"
      },
      "execution_count": null,
      "outputs": [
        {
          "output_type": "stream",
          "name": "stdout",
          "text": [
            "False\n",
            "False\n"
          ]
        }
      ]
    },
    {
      "cell_type": "markdown",
      "source": [
        "#### 43. Make an array immutable (read-only) (★★☆) \n",
        "(**hint**: flags.writeable)"
      ],
      "metadata": {
        "id": "KyfIQQ4h_XYs"
      }
    },
    {
      "cell_type": "code",
      "source": [
        "  arr=np.random.random(10)\n",
        "  arr.flags.writeable=False\n",
        "  arr"
      ],
      "metadata": {
        "id": "GL3EoR3Y_gVi",
        "colab": {
          "base_uri": "https://localhost:8080/"
        },
        "outputId": "be9fed38-88cc-4174-e2b9-c2c44afcc2fa"
      },
      "execution_count": 126,
      "outputs": [
        {
          "output_type": "execute_result",
          "data": {
            "text/plain": [
              "array([0.40687816, 0.55305824, 0.92259002, 0.90312257, 0.55493705,\n",
              "       0.36224451, 0.21496389, 0.46641617, 0.07154407, 0.39950524])"
            ]
          },
          "metadata": {},
          "execution_count": 126
        }
      ]
    },
    {
      "cell_type": "markdown",
      "metadata": {
        "id": "MW3pZLB2cOFD"
      },
      "source": [
        "#### 44. Consider a random 10x2 matrix representing cartesian coordinates, convert them to polar coordinates (★★☆) \n",
        "(**hint**: np.sqrt, np.arctan2)"
      ]
    },
    {
      "cell_type": "code",
      "execution_count": null,
      "metadata": {
        "id": "DmQWlPWjcOFE",
        "colab": {
          "base_uri": "https://localhost:8080/"
        },
        "outputId": "58cb5e5c-fb1f-4f5e-927f-319358942479"
      },
      "outputs": [
        {
          "output_type": "stream",
          "name": "stdout",
          "text": [
            "[0.54369871 0.75458763 0.81311307 1.18381982 0.61705292 1.12549359\n",
            " 0.12573046 0.91303413 0.11722952 0.46026034 0.62259534 0.44014312\n",
            " 0.5510803  1.11116341 1.0112125  0.45798097 0.72311129 0.77227354\n",
            " 0.98514374 0.46085876]\n",
            "[0.24383426 1.56943185 1.44719232 0.6384548  1.16444927 0.7687522\n",
            " 1.02323121 0.95453704 1.40215695 1.03815549 0.32713421 0.3659195\n",
            " 0.28288959 0.69940808 0.73420593 1.0857113  0.5211435  1.54750151\n",
            " 0.01492227 0.92382297]\n"
          ]
        }
      ],
      "source": [
        "arr=np.random.random((20,2))\n",
        "a,b=arr[:,0],arr[:,1]\n",
        "x=np.sqrt(a**2+b**2)\n",
        "y=np.arctan2(b,a)\n",
        "print(x)\n",
        "print(y)"
      ]
    },
    {
      "cell_type": "markdown",
      "metadata": {
        "id": "uju2Nwd_cOFE"
      },
      "source": [
        "#### 45. Create random vector of size 10 and replace the maximum value by 0 (★★☆) \n",
        "(**hint**: argmax)"
      ]
    },
    {
      "cell_type": "code",
      "execution_count": 125,
      "metadata": {
        "id": "J5tWeiQQcOFF",
        "colab": {
          "base_uri": "https://localhost:8080/"
        },
        "outputId": "1e772e29-4435-47b9-c137-7482f4eb04e7"
      },
      "outputs": [
        {
          "output_type": "stream",
          "name": "stdout",
          "text": [
            "[0.         0.43646922 0.43923996 0.20049732 0.52754591 0.63757081\n",
            " 0.29725615 0.34771786 0.70945309 0.52267253]\n"
          ]
        }
      ],
      "source": [
        "arr=np.random.random(10)\n",
        "arr[arr.argmax()]=0\n",
        "print(arr)"
      ]
    },
    {
      "cell_type": "markdown",
      "metadata": {
        "id": "eBwi809ncOFG"
      },
      "source": [
        "#### 46. Create a structured array with `x` and `y` coordinates covering the \\[0,1\\]x\\[0,1\\] area (★★☆) \n",
        "(**hint**: np.meshgrid)"
      ]
    },
    {
      "cell_type": "code",
      "execution_count": 124,
      "metadata": {
        "id": "DI6mQATacOFH",
        "colab": {
          "base_uri": "https://localhost:8080/"
        },
        "outputId": "4b00d291-7290-42e9-a5a8-2e5ce0573327"
      },
      "outputs": [
        {
          "output_type": "stream",
          "name": "stdout",
          "text": [
            "[[(0. , 0. ) (0.4, 0. ) (0.8, 0. ) (1.2, 0. ) (1.6, 0. ) (2. , 0. )]\n",
            " [(0. , 0.4) (0.4, 0.4) (0.8, 0.4) (1.2, 0.4) (1.6, 0.4) (2. , 0.4)]\n",
            " [(0. , 0.8) (0.4, 0.8) (0.8, 0.8) (1.2, 0.8) (1.6, 0.8) (2. , 0.8)]\n",
            " [(0. , 1.2) (0.4, 1.2) (0.8, 1.2) (1.2, 1.2) (1.6, 1.2) (2. , 1.2)]\n",
            " [(0. , 1.6) (0.4, 1.6) (0.8, 1.6) (1.2, 1.6) (1.6, 1.6) (2. , 1.6)]\n",
            " [(0. , 2. ) (0.4, 2. ) (0.8, 2. ) (1.2, 2. ) (1.6, 2. ) (2. , 2. )]]\n"
          ]
        }
      ],
      "source": [
        "arr=np.zeros((6,6),[('x',float),('y',float)])\n",
        "arr['x'],arr['y']=np.meshgrid(np.linspace(0,2,6),\n",
        "                              np.linspace(0,2,6))\n",
        "print(arr)\n"
      ]
    },
    {
      "cell_type": "markdown",
      "metadata": {
        "id": "4xbnHZuQcOFH"
      },
      "source": [
        "####  47. Given two arrays, X and Y, construct the Cauchy matrix C (Cij =1/(xi - yj)) \n",
        "(**hint**: np.subtract.outer)"
      ]
    },
    {
      "cell_type": "code",
      "execution_count": 123,
      "metadata": {
        "id": "GgLFCWEGcOFI",
        "colab": {
          "base_uri": "https://localhost:8080/"
        },
        "outputId": "fee16679-2aee-42b9-a926-9e149a82d393"
      },
      "outputs": [
        {
          "output_type": "stream",
          "name": "stdout",
          "text": [
            "396.0368295558234\n"
          ]
        }
      ],
      "source": [
        "x=np.arange(6)\n",
        "y=x+0.5\n",
        "c=1.0/np.subtract.outer(x,y)\n",
        "print(np.linalg.det(c))"
      ]
    },
    {
      "cell_type": "markdown",
      "metadata": {
        "id": "51w4oSPlcOFJ"
      },
      "source": [
        "#### 48. Print the minimum and maximum representable value for each numpy scalar type (★★☆) \n",
        "(**hint**: np.iinfo, np.finfo, eps)"
      ]
    },
    {
      "cell_type": "code",
      "execution_count": null,
      "metadata": {
        "id": "3QVFL2cUcOFK",
        "colab": {
          "base_uri": "https://localhost:8080/"
        },
        "outputId": "7ee5d97d-6c33-4b06-fe03-287e6610ebd4"
      },
      "outputs": [
        {
          "output_type": "stream",
          "name": "stdout",
          "text": [
            "-128\n",
            "127\n",
            "-2147483648\n",
            "2147483647\n",
            "-9223372036854775808\n",
            "9223372036854775807\n",
            "-3.4028235e+38\n",
            "3.4028235e+38\n",
            "1.1920929e-07\n",
            "-1.7976931348623157e+308\n",
            "1.7976931348623157e+308\n",
            "2.220446049250313e-16\n"
          ]
        }
      ],
      "source": [
        "for dtype in [np.int8,np.int32,np.int64]:\n",
        "  print(np.iinfo(dtype).min)\n",
        "  print(np.iinfo(dtype).max)\n",
        "for dtype in [np.float32,np.float64]:\n",
        "  print(np.finfo(dtype).min)\n",
        "  print(np.finfo(dtype).max)\n",
        "  print(np.finfo(dtype).eps)\n"
      ]
    },
    {
      "cell_type": "markdown",
      "metadata": {
        "id": "M-Ipy3uZcOFK"
      },
      "source": [
        "#### 49. How to print all the values of an array? (★★☆) \n",
        "(**hint**: np.set\\_printoptions)"
      ]
    },
    {
      "cell_type": "code",
      "execution_count": 78,
      "metadata": {
        "id": "pqex3wAScOFL",
        "colab": {
          "base_uri": "https://localhost:8080/"
        },
        "outputId": "165475dd-3c87-4de0-e8e1-10d5adfb59a0"
      },
      "outputs": [
        {
          "output_type": "stream",
          "name": "stdout",
          "text": [
            "[[0. 0. 0. 0.]\n",
            " [0. 0. 0. 0.]\n",
            " [0. 0. 0. 0.]\n",
            " [0. 0. 0. 0.]]\n"
          ]
        }
      ],
      "source": [
        "arr = np.zeros((4, 4))\n",
        "np.set_printoptions\n",
        "print(arr)"
      ]
    },
    {
      "cell_type": "markdown",
      "metadata": {
        "id": "FQDUQ8B1cOFL"
      },
      "source": [
        "#### 50. How to find the closest value (to a given scalar) in a vector? (★★☆) \n",
        "(**hint**: argmin)"
      ]
    },
    {
      "cell_type": "code",
      "execution_count": null,
      "metadata": {
        "id": "-ssLIGvocOFM",
        "colab": {
          "base_uri": "https://localhost:8080/"
        },
        "outputId": "143c080e-ceda-4639-a4e9-a089246d9560"
      },
      "outputs": [
        {
          "output_type": "stream",
          "name": "stdout",
          "text": [
            "66\n"
          ]
        }
      ],
      "source": [
        "arr=np.arange(200)\n",
        "x=np.random.uniform(0,100)\n",
        "closestvalue=(np.abs(arr-x)).argmin()\n",
        "print(arr[closestvalue])"
      ]
    },
    {
      "cell_type": "markdown",
      "metadata": {
        "id": "ynFrMCq-cOFN"
      },
      "source": [
        "#### 51. Create a structured array representing a position (x,y) and a color (r,g,b) (★★☆) \n",
        "(**hint**: dtype)"
      ]
    },
    {
      "cell_type": "code",
      "execution_count": null,
      "metadata": {
        "id": "EHkeIEbtcOFO",
        "colab": {
          "base_uri": "https://localhost:8080/"
        },
        "outputId": "17252504-f054-4c7e-a571-10587b3c6697"
      },
      "outputs": [
        {
          "output_type": "stream",
          "name": "stdout",
          "text": [
            "[((0., 0.), (0., 0., 0.)) ((0., 0.), (0., 0., 0.))\n",
            " ((0., 0.), (0., 0., 0.)) ((0., 0.), (0., 0., 0.))\n",
            " ((0., 0.), (0., 0., 0.)) ((0., 0.), (0., 0., 0.))\n",
            " ((0., 0.), (0., 0., 0.)) ((0., 0.), (0., 0., 0.))\n",
            " ((0., 0.), (0., 0., 0.)) ((0., 0.), (0., 0., 0.))\n",
            " ((0., 0.), (0., 0., 0.)) ((0., 0.), (0., 0., 0.))\n",
            " ((0., 0.), (0., 0., 0.)) ((0., 0.), (0., 0., 0.))\n",
            " ((0., 0.), (0., 0., 0.)) ((0., 0.), (0., 0., 0.))\n",
            " ((0., 0.), (0., 0., 0.)) ((0., 0.), (0., 0., 0.))\n",
            " ((0., 0.), (0., 0., 0.)) ((0., 0.), (0., 0., 0.))]\n"
          ]
        },
        {
          "output_type": "stream",
          "name": "stderr",
          "text": [
            "/usr/local/lib/python3.7/dist-packages/ipykernel_launcher.py:5: FutureWarning: Passing (type, 1) or '1type' as a synonym of type is deprecated; in a future version of numpy, it will be understood as (type, (1,)) / '(1,)type'.\n",
            "  \"\"\"\n"
          ]
        }
      ],
      "source": [
        "arr=np.zeros(20,[('position',[('x',float,1),\n",
        "                              ('y',float,1)]),\n",
        "                 ('color', [('r',float,1),\n",
        "                            ('g',float,1),\n",
        "                            ('b',float,1)])])\n",
        "print(arr)                              "
      ]
    },
    {
      "cell_type": "markdown",
      "metadata": {
        "id": "SjeWvglCcOFP"
      },
      "source": [
        "#### 52. Consider a random vector with shape (100,2) representing coordinates, find point by point distances (★★☆) \n",
        "(**hint**: np.atleast\\_2d, T, np.sqrt)"
      ]
    },
    {
      "cell_type": "code",
      "execution_count": 121,
      "metadata": {
        "id": "b3s1_HsVcOFQ",
        "colab": {
          "base_uri": "https://localhost:8080/"
        },
        "outputId": "40327e50-1d08-46c1-dc87-d45f8df0b900"
      },
      "outputs": [
        {
          "output_type": "stream",
          "name": "stdout",
          "text": [
            "[[0.         0.37664953 0.85472356 0.8346846  0.85537308 1.1054177\n",
            "  0.86955379 0.93994817 0.87572954 0.62849959]\n",
            " [0.37664953 0.         0.66859808 0.50300739 0.68973327 0.73167197\n",
            "  0.58347427 0.77405153 0.63330553 0.47213296]\n",
            " [0.85472356 0.66859808 0.         0.96932568 0.04818673 0.75326397\n",
            "  0.2550897  0.10898669 1.20574666 0.22623674]\n",
            " [0.8346846  0.50300739 0.96932568 0.         1.00831372 0.52598914\n",
            "  0.76144353 1.07570491 0.27520779 0.85433573]\n",
            " [0.85537308 0.68973327 0.04818673 1.00831372 0.         0.80132752\n",
            "  0.30305138 0.0863546  1.24069497 0.23104793]\n",
            " [1.1054177  0.73167197 0.75326397 0.52598914 0.80132752 0.\n",
            "  0.4983673  0.83287652 0.79438007 0.7716023 ]\n",
            " [0.86955379 0.58347427 0.2550897  0.76144353 0.30305138 0.4983673\n",
            "  0.         0.34195308 1.01775363 0.32365334]\n",
            " [0.93994817 0.77405153 0.10898669 1.07570491 0.0863546  0.83287652\n",
            "  0.34195308 0.         1.31422697 0.3173225 ]\n",
            " [0.87572954 0.63330553 1.20574666 0.27520779 1.24069497 0.79438007\n",
            "  1.01775363 1.31422697 0.         1.06123613]\n",
            " [0.62849959 0.47213296 0.22623674 0.85433573 0.23104793 0.7716023\n",
            "  0.32365334 0.3173225  1.06123613 0.        ]]\n"
          ]
        }
      ],
      "source": [
        "arr=np.random.random((10,2))\n",
        "a,b=np.atleast_2d(arr[:,0],arr[:,1])\n",
        "c=np.sqrt( (a-a.T)**2 + (b-b.T)**2)\n",
        "print(c)"
      ]
    },
    {
      "cell_type": "markdown",
      "metadata": {
        "id": "63OhhCPtcOFQ"
      },
      "source": [
        "#### 53. How to convert a float (32 bits) array into an integer (32 bits) in place? \n",
        "(**hint**: astype(copy=False))"
      ]
    },
    {
      "cell_type": "code",
      "execution_count": null,
      "metadata": {
        "id": "Va1N48uWcOFR",
        "colab": {
          "base_uri": "https://localhost:8080/"
        },
        "outputId": "d59067d9-e2ea-42fd-cb12-6c937f890af7"
      },
      "outputs": [
        {
          "output_type": "stream",
          "name": "stdout",
          "text": [
            "[ 0.  1.  2.  3.  4.  5.  6.  7.  8.  9. 10. 11. 12. 13. 14. 15. 16. 17.\n",
            " 18. 19. 20. 21. 22. 23. 24. 25. 26. 27. 28. 29.]\n"
          ]
        }
      ],
      "source": [
        "arr=np.arange(30, dtype=np.int32)\n",
        "arr=arr.astype(np.float32, copy=False)\n",
        "print(arr)"
      ]
    },
    {
      "cell_type": "markdown",
      "metadata": {
        "id": "SGXh3BFjcOFS"
      },
      "source": [
        "#### 54. How to read the following file? (★★☆) \n",
        "(**hint**: np.genfromtxt)"
      ]
    },
    {
      "cell_type": "markdown",
      "metadata": {
        "id": "NA9cmjTrcOFS"
      },
      "source": [
        "```\n",
        "1, 2, 3, 4, 5\n",
        "6,  ,  , 7, 8\n",
        " ,  , 9,10,11\n",
        "```"
      ]
    },
    {
      "cell_type": "code",
      "execution_count": null,
      "metadata": {
        "id": "Wrg01C8qcOFT",
        "colab": {
          "base_uri": "https://localhost:8080/"
        },
        "outputId": "7276044d-85e7-484d-a412-99084eff0d98"
      },
      "outputs": [
        {
          "output_type": "stream",
          "name": "stdout",
          "text": [
            "[[ 1  2  3  4  5]\n",
            " [ 6 -1 -1  7  8]\n",
            " [-1 -1  9 10 11]]\n"
          ]
        },
        {
          "output_type": "stream",
          "name": "stderr",
          "text": [
            "/usr/local/lib/python3.7/dist-packages/ipykernel_launcher.py:6: DeprecationWarning: `np.int` is a deprecated alias for the builtin `int`. To silence this warning, use `int` by itself. Doing this will not modify any behavior and is safe. When replacing `np.int`, you may wish to use e.g. `np.int64` or `np.int32` to specify the precision. If you wish to review your current use, check the release note link for additional information.\n",
            "Deprecated in NumPy 1.20; for more details and guidance: https://numpy.org/devdocs/release/1.20.0-notes.html#deprecations\n",
            "  \n"
          ]
        }
      ],
      "source": [
        "from io import StringIO\n",
        "\n",
        "s=StringIO(\"\"\"1,2,3,4,5\\n\n",
        "              6, , ,7,8\\n\n",
        "              , ,9,10,11\\n\"\"\")\n",
        "arr=np.genfromtxt(s, delimiter=\",\", dtype=np.int)\n",
        "print(arr)"
      ]
    },
    {
      "cell_type": "markdown",
      "metadata": {
        "id": "MABcaocscOFf"
      },
      "source": [
        "#### 55. What is the equivalent of enumerate for numpy arrays? (★★☆) \n",
        "(**hint**: np.ndenumerate, np.ndindex)"
      ]
    },
    {
      "cell_type": "code",
      "execution_count": null,
      "metadata": {
        "id": "e5vaSsi-cOFg",
        "colab": {
          "base_uri": "https://localhost:8080/"
        },
        "outputId": "dccae510-24d3-4655-a6f1-65e87419a1dd"
      },
      "outputs": [
        {
          "output_type": "stream",
          "name": "stdout",
          "text": [
            "(0, 0) 0\n",
            "(0, 1) 1\n",
            "(0, 2) 2\n",
            "(1, 0) 3\n",
            "(1, 1) 4\n",
            "(1, 2) 5\n",
            "(2, 0) 6\n",
            "(2, 1) 7\n",
            "(2, 2) 8\n",
            "(0, 0) 0\n",
            "(0, 1) 1\n",
            "(0, 2) 2\n",
            "(1, 0) 3\n",
            "(1, 1) 4\n",
            "(1, 2) 5\n",
            "(2, 0) 6\n",
            "(2, 1) 7\n",
            "(2, 2) 8\n"
          ]
        }
      ],
      "source": [
        "arr=np.arange(9).reshape(3,3)\n",
        "for index,value in np.ndenumerate(arr):\n",
        "  print(index,value)\n",
        "for index in np.ndindex(arr.shape):\n",
        "  print(index,arr[index])  "
      ]
    },
    {
      "cell_type": "markdown",
      "metadata": {
        "id": "z7Ftp0rzcOFg"
      },
      "source": [
        "#### 56. Generate a generic 2D Gaussian-like array (★★☆) \n",
        "(**hint**: np.meshgrid, np.exp)"
      ]
    },
    {
      "cell_type": "code",
      "execution_count": null,
      "metadata": {
        "id": "APLSU3dzcOFh",
        "colab": {
          "base_uri": "https://localhost:8080/"
        },
        "outputId": "d41cd8f8-7971-445d-dfc4-6eb424260721"
      },
      "outputs": [
        {
          "output_type": "stream",
          "name": "stdout",
          "text": [
            "[[0.36787944 0.44822088 0.51979489 0.57375342 0.60279818 0.60279818\n",
            "  0.57375342 0.51979489 0.44822088 0.36787944]\n",
            " [0.44822088 0.54610814 0.63331324 0.69905581 0.73444367 0.73444367\n",
            "  0.69905581 0.63331324 0.54610814 0.44822088]\n",
            " [0.51979489 0.63331324 0.73444367 0.81068432 0.85172308 0.85172308\n",
            "  0.81068432 0.73444367 0.63331324 0.51979489]\n",
            " [0.57375342 0.69905581 0.81068432 0.89483932 0.9401382  0.9401382\n",
            "  0.89483932 0.81068432 0.69905581 0.57375342]\n",
            " [0.60279818 0.73444367 0.85172308 0.9401382  0.98773022 0.98773022\n",
            "  0.9401382  0.85172308 0.73444367 0.60279818]\n",
            " [0.60279818 0.73444367 0.85172308 0.9401382  0.98773022 0.98773022\n",
            "  0.9401382  0.85172308 0.73444367 0.60279818]\n",
            " [0.57375342 0.69905581 0.81068432 0.89483932 0.9401382  0.9401382\n",
            "  0.89483932 0.81068432 0.69905581 0.57375342]\n",
            " [0.51979489 0.63331324 0.73444367 0.81068432 0.85172308 0.85172308\n",
            "  0.81068432 0.73444367 0.63331324 0.51979489]\n",
            " [0.44822088 0.54610814 0.63331324 0.69905581 0.73444367 0.73444367\n",
            "  0.69905581 0.63331324 0.54610814 0.44822088]\n",
            " [0.36787944 0.44822088 0.51979489 0.57375342 0.60279818 0.60279818\n",
            "  0.57375342 0.51979489 0.44822088 0.36787944]]\n"
          ]
        }
      ],
      "source": [
        "a,b=np.meshgrid(np.linspace(-1,1,10),np.linspace(-1,1,10))\n",
        "c=np.sqrt(a*a+b*b)\n",
        "sigma, mu =1.0,0.0\n",
        "x=np.exp(-((c-mu)**2/(2.0*sigma**2)))\n",
        "print(x)"
      ]
    },
    {
      "cell_type": "markdown",
      "metadata": {
        "id": "rVEJWApQcOFi"
      },
      "source": [
        "#### 57. How to randomly place p elements in a 2D array? (★★☆) \n",
        "(**hint**: np.put, np.random.choice)"
      ]
    },
    {
      "cell_type": "code",
      "execution_count": 79,
      "metadata": {
        "id": "KH-9ZZqGcOFi",
        "colab": {
          "base_uri": "https://localhost:8080/"
        },
        "outputId": "456e995e-47f1-4039-8263-bd942ba14310"
      },
      "outputs": [
        {
          "output_type": "stream",
          "name": "stdout",
          "text": [
            "[[0. 0. 0. 0. 0. 0. 0. 0. 0. 0.]\n",
            " [0. 0. 0. 0. 0. 0. 0. 0. 0. 0.]\n",
            " [0. 0. 0. 0. 0. 0. 0. 0. 0. 0.]\n",
            " [0. 0. 0. 0. 0. 0. 0. 0. 0. 0.]\n",
            " [0. 0. 0. 0. 0. 0. 0. 0. 0. 0.]\n",
            " [0. 0. 0. 0. 0. 0. 1. 0. 0. 1.]\n",
            " [0. 0. 0. 0. 0. 0. 0. 0. 0. 0.]\n",
            " [0. 0. 0. 0. 1. 0. 0. 0. 0. 0.]\n",
            " [0. 0. 0. 0. 0. 0. 0. 0. 0. 0.]\n",
            " [0. 0. 0. 0. 0. 0. 0. 0. 0. 0.]]\n"
          ]
        }
      ],
      "source": [
        "a=10\n",
        "b=3\n",
        "arr=np.zeros((a,a))\n",
        "np.put(arr,np.random.choice(range(a*a),b,replace=False),1)\n",
        "print(arr)"
      ]
    },
    {
      "cell_type": "markdown",
      "metadata": {
        "id": "grrxTofdcOFj"
      },
      "source": [
        "#### 58. Subtract the mean of each row of a matrix (★★☆) \n",
        "(**hint**: mean(axis=,keepdims=))"
      ]
    },
    {
      "cell_type": "code",
      "execution_count": null,
      "metadata": {
        "id": "UzPhplrNcOFk",
        "colab": {
          "base_uri": "https://localhost:8080/"
        },
        "outputId": "bc79a796-041f-4fcd-9653-93fea07c5bf4"
      },
      "outputs": [
        {
          "output_type": "stream",
          "name": "stdout",
          "text": [
            "[[-0.08565126  0.38488336 -0.54232657  0.2478013  -0.36744292  0.27055873\n",
            "   0.12417616 -0.21864664 -0.01423713  0.20088498]\n",
            " [ 0.08250692 -0.06541965  0.22662469  0.09363374 -0.27583506  0.40519477\n",
            "   0.29007122 -0.31815728 -0.26918807 -0.16943128]\n",
            " [-0.16864222  0.36563405  0.17024908  0.1868571  -0.26593853  0.01871336\n",
            "  -0.34281201  0.09928496 -0.1588422   0.09549641]\n",
            " [ 0.31597422 -0.14985563 -0.39556537  0.35580895  0.51254766 -0.45141468\n",
            "   0.17081167  0.02298606 -0.45460175  0.07330888]\n",
            " [-0.23336292 -0.12975974 -0.14751228  0.24036046  0.07782168  0.32367328\n",
            "   0.19149691  0.13915597 -0.32194004 -0.1399333 ]]\n"
          ]
        }
      ],
      "source": [
        "x=np.random.rand(5,10)\n",
        "y=x- x.mean(axis=1, keepdims=True)\n",
        "y=x- x.mean(axis=1).reshape(-1,1)\n",
        "print(y)"
      ]
    },
    {
      "cell_type": "markdown",
      "metadata": {
        "id": "hzq76nNucOFl"
      },
      "source": [
        "#### 59. How to sort an array by the nth column? (★★☆) \n",
        "(**hint**: argsort)"
      ]
    },
    {
      "cell_type": "code",
      "execution_count": null,
      "metadata": {
        "id": "_MgWuwTtcOFn",
        "colab": {
          "base_uri": "https://localhost:8080/"
        },
        "outputId": "96d567b6-7406-475c-9f69-a21625a55e13"
      },
      "outputs": [
        {
          "output_type": "stream",
          "name": "stdout",
          "text": [
            "[[3 2 8]\n",
            " [8 5 5]\n",
            " [3 9 3]]\n",
            "[[3 2 8]\n",
            " [8 5 5]\n",
            " [3 9 3]]\n"
          ]
        }
      ],
      "source": [
        "arr=np.random.randint(0,10,(3,3))\n",
        "print(arr)\n",
        "print(arr[arr[:,1].argsort()])"
      ]
    },
    {
      "cell_type": "markdown",
      "metadata": {
        "id": "e07y4Sc1cOFo"
      },
      "source": [
        "#### 60. How to tell if a given 2D array has null columns? (★★☆) \n",
        "(**hint**: any, ~)"
      ]
    },
    {
      "cell_type": "code",
      "execution_count": null,
      "metadata": {
        "id": "wsy-LwxScOFp",
        "colab": {
          "base_uri": "https://localhost:8080/"
        },
        "outputId": "520e98d0-8ef6-4403-ed4d-e0de1d4cf27a"
      },
      "outputs": [
        {
          "output_type": "stream",
          "name": "stdout",
          "text": [
            "False\n"
          ]
        }
      ],
      "source": [
        "arr=np.random.randint(0,3,(3,10))\n",
        "print((~arr.any(axis=0)).any())"
      ]
    },
    {
      "cell_type": "markdown",
      "metadata": {
        "id": "EG5f6_B6cOFq"
      },
      "source": [
        "#### 61. Find the nearest value from a given value in an array (★★☆) \n",
        "(**hint**: np.abs, argmin, flat)"
      ]
    },
    {
      "cell_type": "code",
      "execution_count": null,
      "metadata": {
        "id": "2_ziS6iKcOFq",
        "colab": {
          "base_uri": "https://localhost:8080/"
        },
        "outputId": "86ccc1ef-7284-4ebc-fafb-f04c8c7289ad"
      },
      "outputs": [
        {
          "output_type": "stream",
          "name": "stdout",
          "text": [
            "0.4665374397974871\n"
          ]
        }
      ],
      "source": [
        "arr=np.random.uniform(0,2,20)\n",
        "x=0.5\n",
        "y=arr.flat[np.abs(arr-x).argmin()]\n",
        "print(y)"
      ]
    },
    {
      "cell_type": "markdown",
      "metadata": {
        "id": "WUvP-nLmcOFr"
      },
      "source": [
        "#### 62. Considering two arrays with shape (1,3) and (3,1), how to compute their sum using an iterator? (★★☆) \n",
        "(**hint**: np.nditer)"
      ]
    },
    {
      "cell_type": "code",
      "execution_count": null,
      "metadata": {
        "id": "6f7UvK0IcOFs",
        "colab": {
          "base_uri": "https://localhost:8080/"
        },
        "outputId": "b435a964-a1e3-4ee0-ad26-240f905453c3"
      },
      "outputs": [
        {
          "output_type": "stream",
          "name": "stdout",
          "text": [
            "[[0 1 2 3 4]\n",
            " [1 2 3 4 5]\n",
            " [2 3 4 5 6]\n",
            " [3 4 5 6 7]\n",
            " [4 5 6 7 8]]\n"
          ]
        }
      ],
      "source": [
        "a=np.arange(5).reshape(5,1)\n",
        "b=np.arange(5).reshape(1,5)\n",
        "iter=np.nditer([a,b,None])\n",
        "for x,y,z in iter: z[...]=x+y\n",
        "print(iter.operands[2])"
      ]
    },
    {
      "cell_type": "markdown",
      "metadata": {
        "id": "r0e57HXUcOFs"
      },
      "source": [
        "#### 63. Create an array class that has a name attribute (★★☆) \n",
        "(**hint**: class method)"
      ]
    },
    {
      "cell_type": "code",
      "source": [
        "class NamedArray(np.ndarray):\n",
        "    def __new__(cls, array, name=\"no name\"):\n",
        "        obj = np.asarray(array).view(cls)\n",
        "        obj.name = name\n",
        "        return obj\n",
        "    def __array_finalize__(self, obj):\n",
        "        if obj is None: return\n",
        "        self.info = getattr(obj, 'name', \"no name\")\n",
        "\n",
        "Z = NamedArray(np.arange(10), \"range_10\")\n",
        "print (Z.name)"
      ],
      "metadata": {
        "colab": {
          "base_uri": "https://localhost:8080/"
        },
        "id": "N-9iz84EKbQa",
        "outputId": "7c532225-4689-40b5-e165-d73617784357"
      },
      "execution_count": 80,
      "outputs": [
        {
          "output_type": "stream",
          "name": "stdout",
          "text": [
            "range_10\n"
          ]
        }
      ]
    },
    {
      "cell_type": "markdown",
      "metadata": {
        "id": "aPVnik3bcOFu"
      },
      "source": [
        "#### 64. Consider a given vector, how to add 1 to each element indexed by a second vector (be careful with repeated indices)? (★★★) \n",
        "(**hint**: np.bincount | np.add.at)"
      ]
    },
    {
      "cell_type": "code",
      "execution_count": null,
      "metadata": {
        "id": "zbRNKNomcOFu",
        "colab": {
          "base_uri": "https://localhost:8080/"
        },
        "outputId": "bea501cf-8ab0-4f4c-f97b-f1280187016a"
      },
      "outputs": [
        {
          "output_type": "stream",
          "name": "stdout",
          "text": [
            "[6. 5. 2. 1. 1. 3. 4. 5. 1. 2.]\n",
            "[7. 3. 3. 9. 7. 7. 5. 3. 5. 1.]\n"
          ]
        }
      ],
      "source": [
        "#for np.bincount\n",
        "z=np.ones(10)\n",
        "i=np.random.randint(0,len(z),20)\n",
        "z+=np.bincount(i,minlength=len(x))\n",
        "print(z)\n",
        "#for np.add.at\n",
        "np.add.at(x,y,1)\n",
        "print(x)"
      ]
    },
    {
      "cell_type": "markdown",
      "metadata": {
        "id": "9uoe_LSZcOFv"
      },
      "source": [
        "#### 65. How to accumulate elements of a vector (X) to an array (F) based on an index list (I)? (★★★) \n",
        "(**hint**: np.bincount)"
      ]
    },
    {
      "cell_type": "code",
      "source": [
        "X = [1,2,3,4,5,6]\n",
        "I = [1,3,9,3,4,1]\n",
        "F = np.bincount(I,X)\n",
        "print(F)"
      ],
      "metadata": {
        "colab": {
          "base_uri": "https://localhost:8080/"
        },
        "id": "XQ3Sy8R1RvYg",
        "outputId": "d91d4c5a-2c9b-4da9-d623-f92771650101"
      },
      "execution_count": 119,
      "outputs": [
        {
          "output_type": "stream",
          "name": "stdout",
          "text": [
            "[0. 7. 0. 6. 5. 0. 0. 0. 0. 3.]\n"
          ]
        }
      ]
    },
    {
      "cell_type": "markdown",
      "metadata": {
        "id": "H2TRRZDfcOFw"
      },
      "source": [
        "#### 66. Considering a (w,h,3) image of (dtype=ubyte), compute the number of unique colors (★★★) \n",
        "(**hint**: np.unique)"
      ]
    },
    {
      "cell_type": "code",
      "execution_count": 118,
      "metadata": {
        "id": "yE33bJbCcOFx",
        "colab": {
          "base_uri": "https://localhost:8080/"
        },
        "outputId": "92f6d7f2-1391-469c-d775-7fdd118af4f0"
      },
      "outputs": [
        {
          "output_type": "stream",
          "name": "stdout",
          "text": [
            "[0 1]\n"
          ]
        }
      ],
      "source": [
        "w,h= 16,16\n",
        "s=np.random.randint(0,2,(h,w,3)).astype(np.ubyte)\n",
        "m=s[...,0]*256*256+s[...,1]*256+s[...,2]\n",
        "n=len(np.unique(m))\n",
        "print(np.unique(s))"
      ]
    },
    {
      "cell_type": "markdown",
      "metadata": {
        "id": "moNgC6opcOFy"
      },
      "source": [
        "#### 67. Considering a four dimensions array, how to get sum over the last two axis at once? (★★★) \n",
        "(**hint**: sum(axis=(-2,-1)))"
      ]
    },
    {
      "cell_type": "code",
      "execution_count": null,
      "metadata": {
        "id": "BY0-39d3cOFz",
        "colab": {
          "base_uri": "https://localhost:8080/"
        },
        "outputId": "b22c74ad-59c7-47a5-cbc6-1ddb01c22a1d"
      },
      "outputs": [
        {
          "output_type": "stream",
          "name": "stdout",
          "text": [
            "[[74 65 58 50]\n",
            " [63 37 61 55]\n",
            " [54 54 39 68]]\n",
            "[[74 65 58 50]\n",
            " [63 37 61 55]\n",
            " [54 54 39 68]]\n"
          ]
        }
      ],
      "source": [
        "x=np.random.randint(0,10,(3,4,3,4))\n",
        "sum=x.sum(axis=(-2,-1))\n",
        "print(sum)\n",
        "#To get sum over the last two axis at once\n",
        "sum=x.reshape(x.shape[:-2]+(-1,)).sum(axis=-1)\n",
        "print(sum)"
      ]
    },
    {
      "cell_type": "markdown",
      "metadata": {
        "id": "E2goeC3dcOFz"
      },
      "source": [
        "#### 68. Considering a one-dimensional vector D, how to compute means of subsets of D using a vector S of same size describing subset  indices? (★★★) \n",
        "(**hint**: np.bincount)"
      ]
    },
    {
      "cell_type": "code",
      "execution_count": null,
      "metadata": {
        "id": "yxYP8kj5cOF0",
        "colab": {
          "base_uri": "https://localhost:8080/"
        },
        "outputId": "e8ec1e30-a410-4b74-847c-12f6c1b85a0a"
      },
      "outputs": [
        {
          "output_type": "stream",
          "name": "stdout",
          "text": [
            "[0.27614382 0.55134332 0.45536962 0.54034654 0.67737181 0.51029008\n",
            " 0.46758819 0.47397514 0.56039311 0.6441557 ]\n"
          ]
        }
      ],
      "source": [
        "a=np.random.uniform(0,1,100)\n",
        "b=np.random.randint(0,10,100)\n",
        "a_sums=np.bincount(b,weights=a)\n",
        "a_counts=np.bincount(b)\n",
        "a_means=a_sums/a_counts\n",
        "print(a_means)"
      ]
    },
    {
      "cell_type": "markdown",
      "metadata": {
        "id": "AnHDcGwCcOF1"
      },
      "source": [
        "#### 69. How to get the diagonal of a dot product? (★★★) \n",
        "(**hint**: np.diag)"
      ]
    },
    {
      "cell_type": "code",
      "execution_count": null,
      "metadata": {
        "id": "ektUnnlHcOF2",
        "colab": {
          "base_uri": "https://localhost:8080/"
        },
        "outputId": "e67cf371-2eaa-40ea-bf75-06263e99aca0"
      },
      "outputs": [
        {
          "output_type": "execute_result",
          "data": {
            "text/plain": [
              "array([1.14567526, 0.78060551, 1.35245975, 1.07334105, 1.5899851 ])"
            ]
          },
          "metadata": {},
          "execution_count": 29
        }
      ],
      "source": [
        "x = np.random.uniform(0,1,(5,5))\n",
        "y = np.random.uniform(0,1,(5,5))\n",
        " \n",
        "np.diag(np.dot(x, y))\n",
        "np.sum(x * y.T, axis=1)\n",
        "np.einsum(\"ij,ji->i\", x, y)"
      ]
    },
    {
      "cell_type": "markdown",
      "metadata": {
        "id": "H5L5VlzmcOF6"
      },
      "source": [
        "#### 70. Consider the vector \\[1, 2, 3, 4, 5\\], how to build a new vector with 3 consecutive zeros interleaved between each value? (★★★) \n",
        "(**hint**: array\\[::4\\])"
      ]
    },
    {
      "cell_type": "code",
      "execution_count": null,
      "metadata": {
        "id": "RcybRc3UcOF7",
        "colab": {
          "base_uri": "https://localhost:8080/"
        },
        "outputId": "6abae533-1d4e-477a-88c4-ae5567be11f5"
      },
      "outputs": [
        {
          "output_type": "stream",
          "name": "stdout",
          "text": [
            "[1. 0. 0. 0. 2. 0. 0. 0. 3. 0. 0. 0. 4. 0. 0. 0. 5.]\n"
          ]
        }
      ],
      "source": [
        "arr = np.array([1,2,3,4,5])\n",
        "nz = 3\n",
        "arr0 = np.zeros(len(arr) + (len(arr)-1)*(nz))\n",
        "arr0[::nz+1] = arr\n",
        "print(arr0)"
      ]
    },
    {
      "cell_type": "markdown",
      "metadata": {
        "id": "WqNXS92ncOF7"
      },
      "source": [
        "#### 71. Consider an array of dimension (5,5,3), how to mulitply it by an array with dimensions (5,5)? (★★★) \n",
        "(**hint**: array\\[:, :, None\\])"
      ]
    },
    {
      "cell_type": "code",
      "execution_count": null,
      "metadata": {
        "collapsed": true,
        "id": "Iovaa0wvcOF8",
        "colab": {
          "base_uri": "https://localhost:8080/"
        },
        "outputId": "038defe2-4021-4360-e538-33c4941b22e0"
      },
      "outputs": [
        {
          "output_type": "stream",
          "name": "stdout",
          "text": [
            "[[[2. 2. 2.]\n",
            "  [2. 2. 2.]\n",
            "  [2. 2. 2.]\n",
            "  [2. 2. 2.]\n",
            "  [2. 2. 2.]]\n",
            "\n",
            " [[2. 2. 2.]\n",
            "  [2. 2. 2.]\n",
            "  [2. 2. 2.]\n",
            "  [2. 2. 2.]\n",
            "  [2. 2. 2.]]\n",
            "\n",
            " [[2. 2. 2.]\n",
            "  [2. 2. 2.]\n",
            "  [2. 2. 2.]\n",
            "  [2. 2. 2.]\n",
            "  [2. 2. 2.]]\n",
            "\n",
            " [[2. 2. 2.]\n",
            "  [2. 2. 2.]\n",
            "  [2. 2. 2.]\n",
            "  [2. 2. 2.]\n",
            "  [2. 2. 2.]]\n",
            "\n",
            " [[2. 2. 2.]\n",
            "  [2. 2. 2.]\n",
            "  [2. 2. 2.]\n",
            "  [2. 2. 2.]\n",
            "  [2. 2. 2.]]]\n"
          ]
        }
      ],
      "source": [
        "x = np.ones((5,5,3))\n",
        "y = 2*np.ones((5,5))\n",
        "print(x * y[:,:,None])"
      ]
    },
    {
      "cell_type": "markdown",
      "metadata": {
        "id": "DyXd96X0cOF8"
      },
      "source": [
        "#### 72. How to swap two rows of an array? (★★★) \n",
        "(**hint**: array\\[\\[\\]\\] = array\\[\\[\\]\\])"
      ]
    },
    {
      "cell_type": "code",
      "execution_count": null,
      "metadata": {
        "id": "CIA3pKxIcOF-",
        "colab": {
          "base_uri": "https://localhost:8080/"
        },
        "outputId": "f5a75101-dbd6-4ce4-8ac0-fd8ab4bf1c1c"
      },
      "outputs": [
        {
          "output_type": "stream",
          "name": "stdout",
          "text": [
            "[[ 5  6  7  8  9]\n",
            " [ 0  1  2  3  4]\n",
            " [10 11 12 13 14]\n",
            " [15 16 17 18 19]\n",
            " [20 21 22 23 24]]\n"
          ]
        }
      ],
      "source": [
        "arr = np.arange(25).reshape(5,5)\n",
        "arr[[0,1]] = arr[[1,0]]\n",
        "print(arr)"
      ]
    },
    {
      "cell_type": "markdown",
      "metadata": {
        "id": "eO16VFAHcOF-"
      },
      "source": [
        "#### 73. Consider a set of 10 triplets describing 10 triangles (with shared vertices), find the set of unique line segments composing all the  triangles (★★★) \n",
        "(**hint**: repeat, np.roll, np.sort, view, np.unique)"
      ]
    },
    {
      "cell_type": "code",
      "execution_count": null,
      "metadata": {
        "id": "h3o8FX8lcOGA",
        "colab": {
          "base_uri": "https://localhost:8080/"
        },
        "outputId": "66705df3-aa1f-49a7-beec-e5b56d853073"
      },
      "outputs": [
        {
          "output_type": "stream",
          "name": "stdout",
          "text": [
            "[( 1, 27) ( 1, 53) ( 3, 64) ( 3, 66) (10, 76) (10, 95) (14, 19) (14, 81)\n",
            " (16, 83) (16, 86) (19, 81) (21, 71) (21, 79) (27, 53) (46, 50) (46, 86)\n",
            " (46, 94) (46, 95) (50, 94) (53, 73) (53, 76) (54, 97) (54, 99) (64, 66)\n",
            " (71, 79) (73, 76) (76, 95) (83, 86) (86, 95) (97, 99)]\n"
          ]
        }
      ],
      "source": [
        "faces = np.random.randint(0,100,(10,3))\n",
        "F = np.roll(faces.repeat(2,axis=1),-1,axis=1)\n",
        "F = F.reshape(len(F)*3,2)\n",
        "F = np.sort(F,axis=1)\n",
        "G = F.view( dtype=[('p0',F.dtype),('p1',F.dtype)] )\n",
        "G = np.unique(G)\n",
        "print(G)"
      ]
    },
    {
      "cell_type": "markdown",
      "metadata": {
        "id": "rVAEn6amcOGA"
      },
      "source": [
        "#### 74. Given an array C that is a bincount, how to produce an array A such that np.bincount(A) == C? (★★★) \n",
        "(**hint**: np.repeat)"
      ]
    },
    {
      "cell_type": "code",
      "execution_count": null,
      "metadata": {
        "id": "SiMKQqNMcOGC",
        "colab": {
          "base_uri": "https://localhost:8080/"
        },
        "outputId": "81b47223-5bbb-410c-c9d1-12298cf5ed09"
      },
      "outputs": [
        {
          "output_type": "stream",
          "name": "stdout",
          "text": [
            "[1 1 2 3 4 4 6]\n"
          ]
        }
      ],
      "source": [
        "x = np.bincount([1,1,2,3,4,4,6])\n",
        "y = np.repeat(np.arange(len(x)), x)\n",
        "print(y)"
      ]
    },
    {
      "cell_type": "markdown",
      "metadata": {
        "id": "pJ1kOgCNcOGD"
      },
      "source": [
        "#### 75. How to compute averages using a sliding window over an array? (★★★) \n",
        "(**hint**: np.cumsum)"
      ]
    },
    {
      "cell_type": "code",
      "execution_count": null,
      "metadata": {
        "id": "5NTmjBJecOGD",
        "colab": {
          "base_uri": "https://localhost:8080/"
        },
        "outputId": "01a95087-1154-4222-d064-d96daaa9c928"
      },
      "outputs": [
        {
          "output_type": "stream",
          "name": "stdout",
          "text": [
            "[ 1.  2.  3.  4.  5.  6.  7.  8.  9. 10. 11. 12. 13. 14. 15. 16. 17. 18.]\n"
          ]
        }
      ],
      "source": [
        "def moving_average(a, n=3) :\n",
        "    ret = np.cumsum(a, dtype=float)\n",
        "    ret[n:] = ret[n:] - ret[:-n]\n",
        "    return ret[n - 1:] / n\n",
        "Z = np.arange(20)\n",
        "print(moving_average(Z, n=3))"
      ]
    },
    {
      "cell_type": "markdown",
      "metadata": {
        "id": "IEe8kjTZcOGE"
      },
      "source": [
        "#### 76. Consider a one-dimensional array Z, build a two-dimensional array whose first row is (Z\\[0\\],Z\\[1\\],Z\\[2\\]) and each subsequent row is  shifted by 1 (last row should be (Z\\[-3\\],Z\\[-2\\],Z\\[-1\\]) (★★★) \n",
        "(**hint**: from numpy.lib import stride_tricks)"
      ]
    },
    {
      "cell_type": "code",
      "execution_count": null,
      "metadata": {
        "id": "75M4QfGZcOGF",
        "colab": {
          "base_uri": "https://localhost:8080/"
        },
        "outputId": "c0c9c4ba-f084-4e4c-aaca-19b41aeadbfd"
      },
      "outputs": [
        {
          "output_type": "stream",
          "name": "stdout",
          "text": [
            "[[0 1 2]\n",
            " [1 2 3]\n",
            " [2 3 4]\n",
            " [3 4 5]\n",
            " [4 5 6]\n",
            " [5 6 7]\n",
            " [6 7 8]\n",
            " [7 8 9]]\n"
          ]
        }
      ],
      "source": [
        "from numpy.lib import stride_tricks\n",
        "\n",
        "def rolling(a, window):\n",
        "    shape = (a.size - window + 1, window)\n",
        "    strides = (a.itemsize, a.itemsize)\n",
        "    return stride_tricks.as_strided(a, shape=shape, strides=strides)\n",
        "arr = rolling(np.arange(10), 3)\n",
        "print(arr)"
      ]
    },
    {
      "cell_type": "markdown",
      "metadata": {
        "id": "eeifmjvVcOGG"
      },
      "source": [
        "#### 77. How to negate a boolean, or to change the sign of a float inplace? (★★★) \n",
        "(**hint**: np.logical_not, np.negative)"
      ]
    },
    {
      "cell_type": "code",
      "execution_count": null,
      "metadata": {
        "id": "pKifD3JhcOGH",
        "colab": {
          "base_uri": "https://localhost:8080/"
        },
        "outputId": "43e981a7-3141-40b1-a424-533fc699357a"
      },
      "outputs": [
        {
          "output_type": "execute_result",
          "data": {
            "text/plain": [
              "array([-0.23826762, -0.71446488, -0.02370112,  0.97617431, -0.79141141,\n",
              "       -0.73552671,  0.43627008, -0.63738243, -0.10573582, -0.16866504,\n",
              "        0.56003591,  0.00803482, -0.794213  , -0.27569005, -0.30120514,\n",
              "       -0.49623104,  0.0346476 , -0.604144  , -0.19242748,  0.69435396,\n",
              "        0.12695222,  0.232453  ,  0.29441859, -0.81171493, -0.86036294,\n",
              "        0.21797189, -0.94013605,  0.90077268,  0.71259761,  0.22480358,\n",
              "       -0.65209226,  0.4798936 , -0.8542606 , -0.14089088,  0.39505119,\n",
              "       -0.16971346,  0.79824834, -0.17132396,  0.70124418,  0.13838993,\n",
              "        0.7468445 ,  0.76135278, -0.97712707,  0.03808648, -0.71041701,\n",
              "        0.96254498, -0.03582593, -0.36004687,  0.04788864,  0.05939018,\n",
              "        0.01269207,  0.31501984, -0.54805449,  0.97272917, -0.62343315,\n",
              "        0.51729342,  0.45111813,  0.36853733,  0.01288284, -0.36330715,\n",
              "       -0.86288809, -0.86877165, -0.34140685, -0.23896774,  0.48303582,\n",
              "        0.29490737, -0.36123517, -0.05031145,  0.5211969 ,  0.93903894,\n",
              "        0.01941574,  0.40917281, -0.656359  ,  0.16925874, -0.66581944,\n",
              "        0.7949104 ,  0.42202879,  0.56864022,  0.5153108 ,  0.45099341,\n",
              "       -0.85634835, -0.35646271,  0.64260796,  0.93120003,  0.07046744,\n",
              "       -0.15002222,  0.34281692,  0.64404032, -0.38820823,  0.56923109,\n",
              "       -0.55765771, -0.00813942,  0.28541583, -0.15368938, -0.62738391,\n",
              "       -0.54441199, -0.70836498, -0.68345426, -0.55913913, -0.76006878])"
            ]
          },
          "metadata": {},
          "execution_count": 38
        }
      ],
      "source": [
        "arr = np.random.randint(0,2,100)\n",
        "np.logical_not(arr, out=arr)\n",
        "\n",
        "arr1 = np.random.uniform(-1.0,1.0,100)\n",
        "np.negative(arr1, out=arr1)"
      ]
    },
    {
      "cell_type": "markdown",
      "metadata": {
        "id": "x9jhRIZxcOGI"
      },
      "source": [
        "#### 78. Consider 2 sets of points P0,P1 describing lines (2d) and a point p, how to compute distance from p to each line i  (P0\\[i\\],P1\\[i\\])? (★★★)"
      ]
    },
    {
      "cell_type": "code",
      "execution_count": null,
      "metadata": {
        "id": "IhoMsMDZcOGJ",
        "colab": {
          "base_uri": "https://localhost:8080/"
        },
        "outputId": "1cff2c77-cf26-4f8a-d7f4-ccc344167233"
      },
      "outputs": [
        {
          "output_type": "stream",
          "name": "stdout",
          "text": [
            "[13.31457178  0.06955658  6.7893682  10.20543579  1.30435735  8.01245465\n",
            "  7.85808824 11.10460763  4.80715555 15.72664719]\n"
          ]
        }
      ],
      "source": [
        "def distance(P0, P1, p):\n",
        "    T = P1 - P0\n",
        "    L = (T**2).sum(axis=1)\n",
        "    U = -((P0[:,0]-p[...,0])*T[:,0] + (P0[:,1]-p[...,1])*T[:,1]) / L\n",
        "    U = U.reshape(len(U),1)\n",
        "    D = P0 + U*T - p\n",
        "    return np.sqrt((D**2).sum(axis=1))\n",
        "\n",
        "P0 = np.random.uniform(-10,10,(10,2))\n",
        "P1 = np.random.uniform(-10,10,(10,2))\n",
        "p  = np.random.uniform(-10,10,( 1,2))\n",
        "print(distance(P0, P1, p))"
      ]
    },
    {
      "cell_type": "markdown",
      "metadata": {
        "id": "owMGA02AcOGK"
      },
      "source": [
        "#### 79. Consider 2 sets of points P0,P1 describing lines (2d) and a set of points P, how to compute distance from each point j (P\\[j\\]) to each line i (P0\\[i\\],P1\\[i\\])? (★★★)"
      ]
    },
    {
      "cell_type": "code",
      "execution_count": null,
      "metadata": {
        "id": "yMVcCdD8cOGL",
        "colab": {
          "base_uri": "https://localhost:8080/"
        },
        "outputId": "76b056b0-6a4a-4190-a9bc-bee7d4a55a9d"
      },
      "outputs": [
        {
          "output_type": "stream",
          "name": "stdout",
          "text": [
            "[[10.55797671  8.93918002  7.52362578 13.69455865  5.7281512  12.54032834\n",
            "  12.27042966 11.23088342  2.89573609 13.47938125]\n",
            " [ 9.10929863  3.20372957 12.85910085  5.75863226  5.86886449 18.51845357\n",
            "   0.90046221 15.3099244  10.08443376  0.73709996]\n",
            " [10.7781952   6.34174923 11.94320421  9.58929349  2.1503545  17.33985319\n",
            "   4.00519395 14.89758091  5.51637097  5.71724729]\n",
            " [ 3.96089409  1.46947608  3.70400689  6.1074289   4.74307023  9.07976977\n",
            "   7.48300764  6.76331786  0.38952011  7.58920463]\n",
            " [ 4.50842144  7.93968697  1.471629    3.35667412  3.97982881  4.34025486\n",
            "   1.87088598  0.8049363   4.06703531  0.53181759]\n",
            " [ 9.66590155 14.31777642  3.64598017 10.11248223  1.71343339  2.52073651\n",
            "   3.46525867  2.02245058  8.24710781  5.57825142]\n",
            " [ 0.66478373  4.22401923  1.71325485  0.08946422  2.78521337  7.40355494\n",
            "   2.77679138  4.19419355  4.057955    2.18445429]\n",
            " [ 8.09551404  3.54449687 10.02770424  6.87188724  1.88318759 15.53728352\n",
            "   2.76950612 12.78396679  6.1330441   3.99377164]\n",
            " [ 0.81912642  1.2268857   0.58687227  3.81235959  6.66665932  6.01509659\n",
            "   7.75113565  3.57185058  0.62324742  7.19113644]\n",
            " [ 1.2302214   0.31872198  0.15744635  4.96292778  7.95831416  5.50234806\n",
            "   9.35960888  3.30324236  2.15315538  8.79581641]]\n"
          ]
        }
      ],
      "source": [
        "\n",
        "P0 = np.random.uniform(-10, 10, (10,2))\n",
        "P1 = np.random.uniform(-10,10,(10,2))\n",
        "p = np.random.uniform(-10, 10, (10,2))\n",
        "print(np.array([distance(P0,P1,p_i) for p_i in p]))"
      ]
    },
    {
      "cell_type": "markdown",
      "metadata": {
        "id": "bsYdzQd6cOGL"
      },
      "source": [
        "#### 80. Consider an arbitrary array, write a function that extract a subpart with a fixed shape and centered on a given element (pad with a `fill` value when necessary) (★★★) \n",
        "(**hint**: minimum, maximum)"
      ]
    },
    {
      "cell_type": "code",
      "execution_count": 116,
      "metadata": {
        "id": "knj3N4mjcOGM",
        "colab": {
          "base_uri": "https://localhost:8080/"
        },
        "outputId": "9fa912a7-c581-4b9a-af17-93bfdde1c6f7"
      },
      "outputs": [
        {
          "output_type": "stream",
          "name": "stdout",
          "text": [
            "[[4 3 1 5 6 8 6 4 1 1]\n",
            " [5 5 8 2 3 2 6 0 2 2]\n",
            " [3 9 5 2 5 1 3 4 1 8]\n",
            " [7 9 8 2 9 1 7 1 9 2]\n",
            " [7 9 5 7 9 1 3 5 2 5]\n",
            " [6 9 1 4 7 8 7 9 2 7]\n",
            " [4 2 9 3 2 9 4 6 3 3]\n",
            " [1 1 9 6 7 3 6 2 6 2]\n",
            " [8 2 8 5 8 4 3 7 5 6]\n",
            " [2 8 8 2 3 9 9 3 3 8]]\n",
            "[[0 0 0 0 0]\n",
            " [0 4 3 1 5]\n",
            " [0 5 5 8 2]\n",
            " [0 3 9 5 2]\n",
            " [0 7 9 8 2]]\n"
          ]
        },
        {
          "output_type": "stream",
          "name": "stderr",
          "text": [
            "/usr/local/lib/python3.7/dist-packages/ipykernel_launcher.py:23: FutureWarning: Using a non-tuple sequence for multidimensional indexing is deprecated; use `arr[tuple(seq)]` instead of `arr[seq]`. In the future this will be interpreted as an array index, `arr[np.array(seq)]`, which will result either in an error or a different result.\n"
          ]
        }
      ],
      "source": [
        "Z = np.random.randint(0,10,(10,10))\n",
        "shape = (5,5)\n",
        "fill  = 0\n",
        "position = (1,1)\n",
        "\n",
        "R = np.ones(shape, dtype=Z.dtype)*fill\n",
        "P  = np.array(list(position)).astype(int)\n",
        "Rs = np.array(list(R.shape)).astype(int)\n",
        "Zs = np.array(list(Z.shape)).astype(int)\n",
        "\n",
        "R_start = np.zeros((len(shape),)).astype(int)\n",
        "R_stop  = np.array(list(shape)).astype(int)\n",
        "Z_start = (P-Rs//2)\n",
        "Z_stop  = (P+Rs//2)+Rs%2\n",
        "\n",
        "R_start = (R_start - np.minimum(Z_start,0)).tolist()\n",
        "Z_start = (np.maximum(Z_start,0)).tolist()\n",
        "R_stop = np.maximum(R_start, (R_stop - np.maximum(Z_stop-Zs,0))).tolist()\n",
        "Z_stop = (np.minimum(Z_stop,Zs)).tolist()\n",
        "\n",
        "r = [slice(start,stop) for start,stop in zip(R_start,R_stop)]\n",
        "z = [slice(start,stop) for start,stop in zip(Z_start,Z_stop)]\n",
        "R[r] = Z[z]\n",
        "print(Z)\n",
        "print(R)"
      ]
    },
    {
      "cell_type": "markdown",
      "metadata": {
        "id": "5oRIty1XcOGN"
      },
      "source": [
        "#### 81. Consider an array Z = \\[1,2,3,4,5,6,7,8,9,10,11,12,13,14\\], how to generate an array R = \\[\\[1,2,3,4\\], \\[2,3,4,5\\], \\[3,4,5,6\\], ..., \\[11,12,13,14\\]\\]? (★★★) \n",
        "(**hint**: stride\\_tricks.as\\_strided)"
      ]
    },
    {
      "cell_type": "code",
      "execution_count": null,
      "metadata": {
        "id": "ttlHcPwxcOGO",
        "colab": {
          "base_uri": "https://localhost:8080/"
        },
        "outputId": "51a12253-a6ea-4701-d872-ba0de2be7d71"
      },
      "outputs": [
        {
          "output_type": "stream",
          "name": "stdout",
          "text": [
            "[[ 1  2  3  4]\n",
            " [ 2  3  4  5]\n",
            " [ 3  4  5  6]\n",
            " [ 4  5  6  7]\n",
            " [ 5  6  7  8]\n",
            " [ 6  7  8  9]\n",
            " [ 7  8  9 10]\n",
            " [ 8  9 10 11]\n",
            " [ 9 10 11 12]\n",
            " [10 11 12 13]\n",
            " [11 12 13 14]]\n"
          ]
        }
      ],
      "source": [
        "x = np.arange(1,15,dtype=np.uint32)\n",
        "y = stride_tricks.as_strided(x,(11,4),(4,4))\n",
        "print(y)"
      ]
    },
    {
      "cell_type": "markdown",
      "metadata": {
        "id": "Z2zLWHG-cOGO"
      },
      "source": [
        "#### 82. Compute a matrix rank (★★★) \n",
        "(**hint**: np.linalg.svd) (suggestion: np.linalg.svd)"
      ]
    },
    {
      "cell_type": "code",
      "execution_count": 117,
      "metadata": {
        "id": "bu0E24mFcOGP",
        "colab": {
          "base_uri": "https://localhost:8080/"
        },
        "outputId": "0ee3c353-fb75-4647-b87f-e49d8fda7c27"
      },
      "outputs": [
        {
          "output_type": "stream",
          "name": "stdout",
          "text": [
            "10\n"
          ]
        }
      ],
      "source": [
        "x = np.random.uniform(0,1,(10,10))\n",
        "U, S, V = np.linalg.svd(x) \n",
        "rank_matrix = np.sum(S > 1e-10)\n",
        "print(rank_matrix)"
      ]
    },
    {
      "cell_type": "markdown",
      "metadata": {
        "id": "W-VHoWiwcOGQ"
      },
      "source": [
        "#### 83. How to find the most frequent value in an array? \n",
        "(**hint**: np.bincount, argmax)"
      ]
    },
    {
      "cell_type": "code",
      "execution_count": null,
      "metadata": {
        "id": "jmnu38qrcOGR",
        "colab": {
          "base_uri": "https://localhost:8080/"
        },
        "outputId": "6a9198c7-718c-4aef-d01e-7b144d45c2c7"
      },
      "outputs": [
        {
          "output_type": "stream",
          "name": "stdout",
          "text": [
            "16\n"
          ]
        }
      ],
      "source": [
        "arr = np.random.randint(0,20,60)\n",
        "print(np.bincount(arr).argmax())"
      ]
    },
    {
      "cell_type": "markdown",
      "metadata": {
        "id": "RQbJEq6icOGS"
      },
      "source": [
        "#### 84. Extract all the contiguous 3x3 blocks from a random 10x10 matrix (★★★) \n",
        "(**hint**: stride\\_tricks.as\\_strided)"
      ]
    },
    {
      "cell_type": "code",
      "execution_count": null,
      "metadata": {
        "id": "fmkevCY8cOGT",
        "colab": {
          "base_uri": "https://localhost:8080/"
        },
        "outputId": "1b4f8c73-c3cf-4a9d-df2e-56920e9590d9"
      },
      "outputs": [
        {
          "output_type": "stream",
          "name": "stdout",
          "text": [
            "[[[[2 1 0]\n",
            "   [4 2 1]\n",
            "   [4 0 0]]\n",
            "\n",
            "  [[1 0 0]\n",
            "   [2 1 2]\n",
            "   [0 0 0]]\n",
            "\n",
            "  [[0 0 2]\n",
            "   [1 2 2]\n",
            "   [0 0 3]]\n",
            "\n",
            "  [[0 2 0]\n",
            "   [2 2 2]\n",
            "   [0 3 4]]\n",
            "\n",
            "  [[2 0 3]\n",
            "   [2 2 3]\n",
            "   [3 4 3]]\n",
            "\n",
            "  [[0 3 0]\n",
            "   [2 3 1]\n",
            "   [4 3 1]]\n",
            "\n",
            "  [[3 0 1]\n",
            "   [3 1 0]\n",
            "   [3 1 1]]\n",
            "\n",
            "  [[0 1 1]\n",
            "   [1 0 4]\n",
            "   [1 1 4]]]\n",
            "\n",
            "\n",
            " [[[4 2 1]\n",
            "   [4 0 0]\n",
            "   [4 4 1]]\n",
            "\n",
            "  [[2 1 2]\n",
            "   [0 0 0]\n",
            "   [4 1 0]]\n",
            "\n",
            "  [[1 2 2]\n",
            "   [0 0 3]\n",
            "   [1 0 3]]\n",
            "\n",
            "  [[2 2 2]\n",
            "   [0 3 4]\n",
            "   [0 3 0]]\n",
            "\n",
            "  [[2 2 3]\n",
            "   [3 4 3]\n",
            "   [3 0 2]]\n",
            "\n",
            "  [[2 3 1]\n",
            "   [4 3 1]\n",
            "   [0 2 4]]\n",
            "\n",
            "  [[3 1 0]\n",
            "   [3 1 1]\n",
            "   [2 4 3]]\n",
            "\n",
            "  [[1 0 4]\n",
            "   [1 1 4]\n",
            "   [4 3 2]]]\n",
            "\n",
            "\n",
            " [[[4 0 0]\n",
            "   [4 4 1]\n",
            "   [1 4 4]]\n",
            "\n",
            "  [[0 0 0]\n",
            "   [4 1 0]\n",
            "   [4 4 3]]\n",
            "\n",
            "  [[0 0 3]\n",
            "   [1 0 3]\n",
            "   [4 3 4]]\n",
            "\n",
            "  [[0 3 4]\n",
            "   [0 3 0]\n",
            "   [3 4 1]]\n",
            "\n",
            "  [[3 4 3]\n",
            "   [3 0 2]\n",
            "   [4 1 0]]\n",
            "\n",
            "  [[4 3 1]\n",
            "   [0 2 4]\n",
            "   [1 0 0]]\n",
            "\n",
            "  [[3 1 1]\n",
            "   [2 4 3]\n",
            "   [0 0 1]]\n",
            "\n",
            "  [[1 1 4]\n",
            "   [4 3 2]\n",
            "   [0 1 1]]]\n",
            "\n",
            "\n",
            " [[[4 4 1]\n",
            "   [1 4 4]\n",
            "   [4 0 3]]\n",
            "\n",
            "  [[4 1 0]\n",
            "   [4 4 3]\n",
            "   [0 3 1]]\n",
            "\n",
            "  [[1 0 3]\n",
            "   [4 3 4]\n",
            "   [3 1 1]]\n",
            "\n",
            "  [[0 3 0]\n",
            "   [3 4 1]\n",
            "   [1 1 1]]\n",
            "\n",
            "  [[3 0 2]\n",
            "   [4 1 0]\n",
            "   [1 1 1]]\n",
            "\n",
            "  [[0 2 4]\n",
            "   [1 0 0]\n",
            "   [1 1 1]]\n",
            "\n",
            "  [[2 4 3]\n",
            "   [0 0 1]\n",
            "   [1 1 1]]\n",
            "\n",
            "  [[4 3 2]\n",
            "   [0 1 1]\n",
            "   [1 1 3]]]\n",
            "\n",
            "\n",
            " [[[1 4 4]\n",
            "   [4 0 3]\n",
            "   [0 2 1]]\n",
            "\n",
            "  [[4 4 3]\n",
            "   [0 3 1]\n",
            "   [2 1 0]]\n",
            "\n",
            "  [[4 3 4]\n",
            "   [3 1 1]\n",
            "   [1 0 2]]\n",
            "\n",
            "  [[3 4 1]\n",
            "   [1 1 1]\n",
            "   [0 2 3]]\n",
            "\n",
            "  [[4 1 0]\n",
            "   [1 1 1]\n",
            "   [2 3 4]]\n",
            "\n",
            "  [[1 0 0]\n",
            "   [1 1 1]\n",
            "   [3 4 4]]\n",
            "\n",
            "  [[0 0 1]\n",
            "   [1 1 1]\n",
            "   [4 4 3]]\n",
            "\n",
            "  [[0 1 1]\n",
            "   [1 1 3]\n",
            "   [4 3 3]]]\n",
            "\n",
            "\n",
            " [[[4 0 3]\n",
            "   [0 2 1]\n",
            "   [3 2 3]]\n",
            "\n",
            "  [[0 3 1]\n",
            "   [2 1 0]\n",
            "   [2 3 4]]\n",
            "\n",
            "  [[3 1 1]\n",
            "   [1 0 2]\n",
            "   [3 4 2]]\n",
            "\n",
            "  [[1 1 1]\n",
            "   [0 2 3]\n",
            "   [4 2 1]]\n",
            "\n",
            "  [[1 1 1]\n",
            "   [2 3 4]\n",
            "   [2 1 1]]\n",
            "\n",
            "  [[1 1 1]\n",
            "   [3 4 4]\n",
            "   [1 1 2]]\n",
            "\n",
            "  [[1 1 1]\n",
            "   [4 4 3]\n",
            "   [1 2 4]]\n",
            "\n",
            "  [[1 1 3]\n",
            "   [4 3 3]\n",
            "   [2 4 3]]]\n",
            "\n",
            "\n",
            " [[[0 2 1]\n",
            "   [3 2 3]\n",
            "   [3 0 4]]\n",
            "\n",
            "  [[2 1 0]\n",
            "   [2 3 4]\n",
            "   [0 4 4]]\n",
            "\n",
            "  [[1 0 2]\n",
            "   [3 4 2]\n",
            "   [4 4 4]]\n",
            "\n",
            "  [[0 2 3]\n",
            "   [4 2 1]\n",
            "   [4 4 4]]\n",
            "\n",
            "  [[2 3 4]\n",
            "   [2 1 1]\n",
            "   [4 4 4]]\n",
            "\n",
            "  [[3 4 4]\n",
            "   [1 1 2]\n",
            "   [4 4 3]]\n",
            "\n",
            "  [[4 4 3]\n",
            "   [1 2 4]\n",
            "   [4 3 2]]\n",
            "\n",
            "  [[4 3 3]\n",
            "   [2 4 3]\n",
            "   [3 2 0]]]\n",
            "\n",
            "\n",
            " [[[3 2 3]\n",
            "   [3 0 4]\n",
            "   [1 4 3]]\n",
            "\n",
            "  [[2 3 4]\n",
            "   [0 4 4]\n",
            "   [4 3 4]]\n",
            "\n",
            "  [[3 4 2]\n",
            "   [4 4 4]\n",
            "   [3 4 1]]\n",
            "\n",
            "  [[4 2 1]\n",
            "   [4 4 4]\n",
            "   [4 1 1]]\n",
            "\n",
            "  [[2 1 1]\n",
            "   [4 4 4]\n",
            "   [1 1 0]]\n",
            "\n",
            "  [[1 1 2]\n",
            "   [4 4 3]\n",
            "   [1 0 4]]\n",
            "\n",
            "  [[1 2 4]\n",
            "   [4 3 2]\n",
            "   [0 4 4]]\n",
            "\n",
            "  [[2 4 3]\n",
            "   [3 2 0]\n",
            "   [4 4 0]]]]\n"
          ]
        }
      ],
      "source": [
        "arr = np.random.randint(0,5,(10,10))\n",
        "n = 3\n",
        "i = 1 + (arr.shape[0]-3)\n",
        "j = 1 + (arr.shape[1]-3)\n",
        "C = stride_tricks.as_strided(arr, shape=(i, j, n, n), strides=arr.strides + arr.strides)\n",
        "print(C)"
      ]
    },
    {
      "cell_type": "markdown",
      "metadata": {
        "id": "aeDROD-ccOGT"
      },
      "source": [
        "#### 85. Create a 2D array subclass such that Z\\[i,j\\] == Z\\[j,i\\] (★★★) \n",
        "(**hint**: class method)"
      ]
    },
    {
      "cell_type": "code",
      "execution_count": null,
      "metadata": {
        "id": "s-COubX1cOGU",
        "colab": {
          "base_uri": "https://localhost:8080/"
        },
        "outputId": "e8ec7a06-f3f1-4bb7-a10b-7fc399ad05bc"
      },
      "outputs": [
        {
          "output_type": "stream",
          "name": "stdout",
          "text": [
            "[[ 4 10 10  8  9]\n",
            " [10  2  8 15  7]\n",
            " [10  8  7 42  8]\n",
            " [ 8 15 42  9 10]\n",
            " [ 9  7  8 10  2]]\n"
          ]
        }
      ],
      "source": [
        "class Symetric(np.ndarray):\n",
        "    def __setitem__(self, index, value):\n",
        "        i,j = index\n",
        "        super(Symetric, self).__setitem__((i,j), value)\n",
        "        super(Symetric, self).__setitem__((j,i), value)\n",
        "\n",
        "def symetric(Z):\n",
        "    return np.asarray(Z + Z.T - np.diag(Z.diagonal())).view(Symetric)\n",
        "\n",
        "S = symetric(np.random.randint(0,10,(5,5)))\n",
        "S[2,3] = 42\n",
        "print(S)"
      ]
    },
    {
      "cell_type": "markdown",
      "metadata": {
        "id": "9a5GekWccOGV"
      },
      "source": [
        "#### 86. Consider a set of p matrices wich shape (n,n) and a set of p vectors with shape (n,1). How to compute the sum of of the p matrix products at once? (result has shape (n,1)) (★★★) \n",
        "(**hint**: np.tensordot)"
      ]
    },
    {
      "cell_type": "code",
      "execution_count": 115,
      "metadata": {
        "id": "TjUR9W-RcOGV",
        "colab": {
          "base_uri": "https://localhost:8080/"
        },
        "outputId": "f5a554da-cc9f-439d-95ad-cc70b1ce2106"
      },
      "outputs": [
        {
          "output_type": "stream",
          "name": "stdout",
          "text": [
            "[[200.]\n",
            " [200.]\n",
            " [200.]\n",
            " [200.]\n",
            " [200.]\n",
            " [200.]\n",
            " [200.]\n",
            " [200.]\n",
            " [200.]\n",
            " [200.]\n",
            " [200.]\n",
            " [200.]\n",
            " [200.]\n",
            " [200.]\n",
            " [200.]\n",
            " [200.]\n",
            " [200.]\n",
            " [200.]\n",
            " [200.]\n",
            " [200.]]\n"
          ]
        }
      ],
      "source": [
        "\n",
        "\n",
        "p, n = 10, 20\n",
        "M = np.ones((p,n,n))\n",
        "V = np.ones((p,n,1))\n",
        "S = np.tensordot(M, V, axes=[[0, 2], [0, 1]])\n",
        "print(S)\n",
        "\n"
      ]
    },
    {
      "cell_type": "markdown",
      "metadata": {
        "id": "fIsWMutwcOGW"
      },
      "source": [
        "#### 87. Consider a 16x16 array, how to get the block-sum (block size is 4x4)? (★★★) \n",
        "(**hint**: np.add.reduceat)"
      ]
    },
    {
      "cell_type": "code",
      "execution_count": null,
      "metadata": {
        "id": "FI4HeMcTcOGW",
        "colab": {
          "base_uri": "https://localhost:8080/"
        },
        "outputId": "2139c2a8-62a8-4e13-cecb-5c5f354122a0"
      },
      "outputs": [
        {
          "output_type": "stream",
          "name": "stdout",
          "text": [
            "[[16. 16. 16. 16.]\n",
            " [16. 16. 16. 16.]\n",
            " [16. 16. 16. 16.]\n",
            " [16. 16. 16. 16.]]\n"
          ]
        }
      ],
      "source": [
        "x = np.ones((16,16))\n",
        "k = 4\n",
        "S = np.add.reduceat(np.add.reduceat(x, np.arange(0, x.shape[0], k), axis=0),\n",
        "                                       np.arange(0, x.shape[1], k), axis=1)\n",
        "print(S)"
      ]
    },
    {
      "cell_type": "markdown",
      "metadata": {
        "id": "w8vhT9DccOGX"
      },
      "source": [
        "#### 88. How to implement the Game of Life using numpy arrays? (★★★)"
      ]
    },
    {
      "cell_type": "code",
      "execution_count": 104,
      "metadata": {
        "id": "iJMDaKkRcOGg",
        "colab": {
          "base_uri": "https://localhost:8080/"
        },
        "outputId": "88ec5872-1a0d-498b-8437-8c13b8dc96c9"
      },
      "outputs": [
        {
          "output_type": "stream",
          "name": "stdout",
          "text": [
            "[[0 0 0 ... 0 0 0]\n",
            " [0 0 0 ... 0 0 0]\n",
            " [0 0 0 ... 0 0 0]\n",
            " ...\n",
            " [0 0 0 ... 0 0 0]\n",
            " [0 0 0 ... 0 0 0]\n",
            " [0 0 0 ... 0 0 0]]\n"
          ]
        }
      ],
      "source": [
        "def iterate(Z):\n",
        "    N = (Z[0:-2,0:-2] + Z[0:-2,1:-1] + Z[0:-2,2:] +\n",
        "         Z[1:-1,0:-2]                + Z[1:-1,2:] +\n",
        "         Z[2:  ,0:-2] + Z[2:  ,1:-1] + Z[2:  ,2:])\n",
        "\n",
        "    birth = (N==3) & (Z[1:-1,1:-1]==0)\n",
        "    survive = ((N==2) | (N==3)) & (Z[1:-1,1:-1]==1)\n",
        "    Z[...] = 0\n",
        "    Z[1:-1,1:-1][birth | survive] = 1\n",
        "    return Z\n",
        "\n",
        "Z = np.random.randint(0,2,(50,50))\n",
        "for i in range(100): Z = iterate(Z)\n",
        "print(Z)"
      ]
    },
    {
      "cell_type": "markdown",
      "metadata": {
        "id": "-aGVeRBjcOGh"
      },
      "source": [
        "#### 89. How to get the n largest values of an array (★★★) \n",
        "(**hint**: np.argsort | np.argpartition)"
      ]
    },
    {
      "cell_type": "code",
      "execution_count": 105,
      "metadata": {
        "id": "SwQ05ZfscOGh",
        "colab": {
          "base_uri": "https://localhost:8080/"
        },
        "outputId": "30aa50e7-80c2-4eac-b3e1-f73f12d7b0e2"
      },
      "outputs": [
        {
          "output_type": "stream",
          "name": "stdout",
          "text": [
            "[9995 9996 9997 9998 9999]\n",
            "[9997 9998 9995 9999 9996]\n"
          ]
        }
      ],
      "source": [
        "arr = np.arange(10000)\n",
        "np.random.shuffle(arr)\n",
        "n = 5\n",
        "print (arr[np.argsort(arr)[-n:]])\n",
        "\n",
        "print (arr[np.argpartition(-arr,n)[:n]])"
      ]
    },
    {
      "cell_type": "markdown",
      "metadata": {
        "id": "gXcz5xUgcOGi"
      },
      "source": [
        "#### 90. Given an arbitrary number of vectors, build the cartesian product (every combinations of every item) (★★★) \n",
        "(**hint**: np.indices)"
      ]
    },
    {
      "cell_type": "code",
      "execution_count": 106,
      "metadata": {
        "scrolled": true,
        "id": "d9WIq1sKcOGj",
        "colab": {
          "base_uri": "https://localhost:8080/"
        },
        "outputId": "e5e0067b-62e7-4982-fbd3-a6e9d4159f74"
      },
      "outputs": [
        {
          "output_type": "stream",
          "name": "stdout",
          "text": [
            "[[1 4 6]\n",
            " [1 4 7]\n",
            " [1 5 6]\n",
            " [1 5 7]\n",
            " [2 4 6]\n",
            " [2 4 7]\n",
            " [2 5 6]\n",
            " [2 5 7]\n",
            " [3 4 6]\n",
            " [3 4 7]\n",
            " [3 5 6]\n",
            " [3 5 7]]\n"
          ]
        }
      ],
      "source": [
        "def cartesian(arrays):\n",
        "    arrays = [np.asarray(a) for a in arrays]\n",
        "    shape = (len(x) for x in arrays)\n",
        "\n",
        "    ix = np.indices(shape, dtype=int)\n",
        "    ix = ix.reshape(len(arrays), -1).T\n",
        "\n",
        "    for n, arr in enumerate(arrays):\n",
        "        ix[:, n] = arrays[n][ix[:, n]]\n",
        "\n",
        "    return ix\n",
        "\n",
        "print (cartesian(([1, 2, 3], [4, 5], [6, 7])))"
      ]
    },
    {
      "cell_type": "markdown",
      "metadata": {
        "id": "H7cFXad4cOGu"
      },
      "source": [
        "#### 91. How to create a record array from a regular array? (★★★) \n",
        "(**hint**: np.core.records.fromarrays)"
      ]
    },
    {
      "cell_type": "code",
      "execution_count": 107,
      "metadata": {
        "id": "urH933DHcOGv",
        "colab": {
          "base_uri": "https://localhost:8080/"
        },
        "outputId": "2f832dad-7540-43d0-c571-bb25b5d50b41"
      },
      "outputs": [
        {
          "output_type": "stream",
          "name": "stdout",
          "text": [
            "[(b'Hello', 2.5, 3) (b'World', 3.6, 2)]\n"
          ]
        }
      ],
      "source": [
        "Z = np.array([(\"Hello\", 2.5, 3),\n",
        "              (\"World\", 3.6, 2)])\n",
        "R = np.core.records.fromarrays(Z.T, \n",
        "                               names='col1, col2, col3',\n",
        "                               formats = 'S8, f8, i8')\n",
        "print(R)"
      ]
    },
    {
      "cell_type": "markdown",
      "metadata": {
        "id": "FLalARhRcOGw"
      },
      "source": [
        "#### 92. Consider a large vector Z, compute Z to the power of 3 using 3 different methods (★★★) \n",
        "(**hint**: np.power, \\*, np.einsum)"
      ]
    },
    {
      "cell_type": "code",
      "source": [
        "x = np.random.rand(int(5e7))\n",
        "\n",
        "%timeit np.power(x,3)\n",
        "%timeit x*x*x\n",
        "%timeit np.einsum('i,i,i->i',x,x,x)"
      ],
      "metadata": {
        "colab": {
          "base_uri": "https://localhost:8080/"
        },
        "id": "pEG3vOaxMDkf",
        "outputId": "7d6e4fab-ca3c-4e57-df3b-5bb287aa9b83"
      },
      "execution_count": 108,
      "outputs": [
        {
          "output_type": "stream",
          "name": "stdout",
          "text": [
            "1 loop, best of 5: 3.73 s per loop\n",
            "10 loops, best of 5: 135 ms per loop\n",
            "10 loops, best of 5: 134 ms per loop\n"
          ]
        }
      ]
    },
    {
      "cell_type": "markdown",
      "metadata": {
        "id": "ZxVGMZvfcOGy"
      },
      "source": [
        "#### 93. Consider two arrays A and B of shape (8,3) and (2,2). How to find rows of A that contain elements of each row of B regardless of the order of the elements in B? (★★★) \n",
        "(**hint**: np.where)"
      ]
    },
    {
      "cell_type": "code",
      "execution_count": 109,
      "metadata": {
        "id": "G678A6KPcOGz",
        "colab": {
          "base_uri": "https://localhost:8080/"
        },
        "outputId": "265aa037-64e2-4f43-fa0e-07306f2f3ac7"
      },
      "outputs": [
        {
          "output_type": "stream",
          "name": "stdout",
          "text": [
            "[0 1 7]\n"
          ]
        }
      ],
      "source": [
        "A = np.random.randint(0,5,(8,3))\n",
        "B = np.random.randint(0,5,(2,2))\n",
        "\n",
        "C = (A[..., np.newaxis, np.newaxis] == B)\n",
        "rows = np.where(C.any((3,1)).all(1))[0]\n",
        "print(rows)"
      ]
    },
    {
      "cell_type": "markdown",
      "metadata": {
        "id": "Opm_m9yXcOG0"
      },
      "source": [
        "#### 94. Considering a 10x3 matrix, extract rows with unequal values (e.g. \\[2,2,3\\]) (★★★)"
      ]
    },
    {
      "cell_type": "code",
      "execution_count": 110,
      "metadata": {
        "id": "fESRnRV9cOG1",
        "colab": {
          "base_uri": "https://localhost:8080/"
        },
        "outputId": "26565bd2-d22f-49af-a8b0-fe02bc766c8c"
      },
      "outputs": [
        {
          "output_type": "stream",
          "name": "stdout",
          "text": [
            "[[2 4 0]\n",
            " [1 4 1]\n",
            " [1 1 3]\n",
            " [2 0 3]\n",
            " [3 4 1]\n",
            " [0 3 3]\n",
            " [3 3 1]\n",
            " [0 4 0]\n",
            " [4 2 0]\n",
            " [3 0 2]]\n",
            "[[2 4 0]\n",
            " [1 4 1]\n",
            " [1 1 3]\n",
            " [2 0 3]\n",
            " [3 4 1]\n",
            " [0 3 3]\n",
            " [3 3 1]\n",
            " [0 4 0]\n",
            " [4 2 0]\n",
            " [3 0 2]]\n",
            "[[2 4 0]\n",
            " [1 4 1]\n",
            " [1 1 3]\n",
            " [2 0 3]\n",
            " [3 4 1]\n",
            " [0 3 3]\n",
            " [3 3 1]\n",
            " [0 4 0]\n",
            " [4 2 0]\n",
            " [3 0 2]]\n"
          ]
        }
      ],
      "source": [
        "Z = np.random.randint(0,5,(10,3))\n",
        "print(Z)\n",
        "E = np.all(Z[:,1:] == Z[:,:-1], axis=1)\n",
        "U = Z[~E]\n",
        "print(U)\n",
        "U = Z[Z.max(axis=1) != Z.min(axis=1),:]\n",
        "print(U)"
      ]
    },
    {
      "cell_type": "markdown",
      "metadata": {
        "id": "QheBi9XFcOG2"
      },
      "source": [
        "#### 95. Convert a vector of ints into a matrix binary representation (★★★) \n",
        "(**hint**: np.unpackbits)"
      ]
    },
    {
      "cell_type": "code",
      "execution_count": 111,
      "metadata": {
        "id": "aRCy2mDwcOG3",
        "colab": {
          "base_uri": "https://localhost:8080/"
        },
        "outputId": "c2e9e23f-632a-4796-b23f-df8a42566289"
      },
      "outputs": [
        {
          "output_type": "stream",
          "name": "stdout",
          "text": [
            "[[0 0 0 0 0 0 0 0]\n",
            " [0 0 0 0 0 0 0 1]\n",
            " [0 0 0 0 0 0 1 0]\n",
            " [0 0 0 0 0 0 1 1]\n",
            " [0 0 0 0 1 1 1 1]\n",
            " [0 0 0 1 0 0 0 0]\n",
            " [0 0 1 0 0 0 0 0]\n",
            " [0 1 0 0 0 0 0 0]\n",
            " [1 0 0 0 0 0 0 0]]\n",
            "[[0 0 0 0 0 0 0 0]\n",
            " [0 0 0 0 0 0 0 1]\n",
            " [0 0 0 0 0 0 1 0]\n",
            " [0 0 0 0 0 0 1 1]\n",
            " [0 0 0 0 1 1 1 1]\n",
            " [0 0 0 1 0 0 0 0]\n",
            " [0 0 1 0 0 0 0 0]\n",
            " [0 1 0 0 0 0 0 0]\n",
            " [1 0 0 0 0 0 0 0]]\n"
          ]
        }
      ],
      "source": [
        "I = np.array([0, 1, 2, 3, 15, 16, 32, 64, 128])\n",
        "B = ((I.reshape(-1,1) & (2**np.arange(8))) != 0).astype(int)\n",
        "print(B[:,::-1])\n",
        "\n",
        "I = np.array([0, 1, 2, 3, 15, 16, 32, 64, 128], dtype=np.uint8)\n",
        "print(np.unpackbits(I[:, np.newaxis], axis=1))"
      ]
    },
    {
      "cell_type": "markdown",
      "metadata": {
        "id": "sH-VV7fJcOG3"
      },
      "source": [
        "#### 96. Given a two dimensional array, how to extract unique rows? (★★★) \n",
        "(**hint**: np.ascontiguousarray)"
      ]
    },
    {
      "cell_type": "code",
      "execution_count": 112,
      "metadata": {
        "id": "rPCyGpkjcOG5",
        "colab": {
          "base_uri": "https://localhost:8080/"
        },
        "outputId": "eef820ee-b633-47d1-83b8-24b38961f3a6"
      },
      "outputs": [
        {
          "output_type": "stream",
          "name": "stdout",
          "text": [
            "[[0 0 0]\n",
            " [1 0 0]\n",
            " [1 0 1]\n",
            " [1 1 0]\n",
            " [1 1 1]]\n"
          ]
        }
      ],
      "source": [
        "Z = np.random.randint(0,2,(6,3))\n",
        "T = np.ascontiguousarray(Z).view(np.dtype((np.void, Z.dtype.itemsize * Z.shape[1])))\n",
        "_, idx = np.unique(T, return_index=True)\n",
        "uZ = Z[idx]\n",
        "print(uZ)"
      ]
    },
    {
      "cell_type": "markdown",
      "metadata": {
        "id": "vbwOLr_gcOG6"
      },
      "source": [
        "#### 97. Considering 2 vectors A & B, write the einsum equivalent of inner, outer, sum, and mul function (★★★) \n",
        "(**hint**: np.einsum)"
      ]
    },
    {
      "cell_type": "code",
      "execution_count": 113,
      "metadata": {
        "id": "UnBQLOg4cOG-",
        "colab": {
          "base_uri": "https://localhost:8080/"
        },
        "outputId": "6d91acfe-6468-4adc-b96f-d9429f8aacb4"
      },
      "outputs": [
        {
          "output_type": "execute_result",
          "data": {
            "text/plain": [
              "array([[0.43222278, 0.44943076, 0.44285259, 0.24042558, 0.13780151,\n",
              "        0.09085013, 0.57368595, 0.12944999, 0.35411162, 0.38417174],\n",
              "       [0.67049511, 0.69718936, 0.68698483, 0.37296547, 0.21376763,\n",
              "        0.14093327, 0.88994296, 0.20081215, 0.54932345, 0.59595488],\n",
              "       [0.52932723, 0.5504012 , 0.54234516, 0.2944403 , 0.16876041,\n",
              "        0.11126079, 0.70257193, 0.15853261, 0.43366739, 0.47048091],\n",
              "       [0.66517922, 0.69166183, 0.68153821, 0.37000849, 0.21207282,\n",
              "        0.13981591, 0.88288723, 0.19922005, 0.54496825, 0.59122997],\n",
              "       [0.29537476, 0.30713444, 0.30263902, 0.16430334, 0.09417155,\n",
              "        0.06208566, 0.39204863, 0.08846424, 0.24199473, 0.26253738],\n",
              "       [0.25151045, 0.26152378, 0.25769594, 0.13990365, 0.08018671,\n",
              "        0.0528657 , 0.33382788, 0.07532695, 0.20605757, 0.22354955],\n",
              "       [0.02821157, 0.02933475, 0.02890538, 0.01569279, 0.00899443,\n",
              "        0.00592987, 0.03744499, 0.00844932, 0.02311318, 0.02507523],\n",
              "       [0.64846777, 0.67428506, 0.66441577, 0.36071269, 0.20674486,\n",
              "        0.13630328, 0.86070625, 0.194215  , 0.53127689, 0.57637637],\n",
              "       [0.27166379, 0.28247948, 0.27834492, 0.15111403, 0.086612  ,\n",
              "        0.05710178, 0.36057725, 0.08136285, 0.2225688 , 0.24146241],\n",
              "       [0.56493269, 0.58742421, 0.57882628, 0.31424597, 0.18011216,\n",
              "        0.1187448 , 0.74983078, 0.16919638, 0.46283824, 0.50212804]])"
            ]
          },
          "metadata": {},
          "execution_count": 113
        }
      ],
      "source": [
        "# Make sure to read: http://ajcr.net/Basic-guide-to-einsum/\n",
        "\n",
        "A = np.random.uniform(0,1,10)\n",
        "B = np.random.uniform(0,1,10)\n",
        "\n",
        "np.einsum('i->', A)       # np.sum(A)\n",
        "np.einsum('i,i->i', A, B) # A * B\n",
        "np.einsum('i,i', A, B)    # np.inner(A, B)\n",
        "np.einsum('i,j->ij', A, B)    # np.outer(A, B)"
      ]
    },
    {
      "cell_type": "markdown",
      "metadata": {
        "id": "r_94HnPscOG-"
      },
      "source": [
        "#### 98. Considering a path described by two vectors (X,Y), how to sample it using equidistant samples (★★★)? \n",
        "(**hint**: np.cumsum, np.interp)"
      ]
    },
    {
      "cell_type": "code",
      "source": [
        "phi = np.arange(0, 10*np.pi, 0.1)\n",
        "a = 1\n",
        "x = a*phi*np.cos(phi)\n",
        "y = a*phi*np.sin(phi)\n",
        "\n",
        "dr = (np.diff(x)**2 + np.diff(y)**2)**.5 \n",
        "r = np.zeros_like(x)\n",
        "r[1:] = np.cumsum(dr)                \n",
        "r_int = np.linspace(0, r.max(), 200) \n",
        "x_int = np.interp(r_int, r, x)       \n",
        "y_int = np.interp(r_int, r, y)\n",
        "print(x,y)"
      ],
      "metadata": {
        "id": "Tfg5ch7J51BR",
        "colab": {
          "base_uri": "https://localhost:8080/"
        },
        "outputId": "fcd781d1-8651-4b43-c722-054be3f48e84"
      },
      "execution_count": 114,
      "outputs": [
        {
          "output_type": "stream",
          "name": "stdout",
          "text": [
            "[  0.           0.09950042   0.19601332   0.28660095   0.3684244\n",
            "   0.43879128   0.49520137   0.53538953   0.55736537   0.55944897\n",
            "   0.54030231   0.49895573   0.43482931   0.34774848   0.237954\n",
            "   0.1061058   -0.04671924  -0.21903564  -0.40896377  -0.61425018\n",
            "  -0.83229367  -1.06017682  -1.29470246  -1.53243485  -1.76974492\n",
            "  -2.00285904  -2.22791076  -2.44099478  -2.63822255  -2.81577868\n",
            "  -2.96997749  -3.09731897  -3.19454328  -3.25868324  -3.28711385\n",
            "  -3.27759841  -3.2283303   -3.13797012  -3.00567731  -2.83113599\n",
            "  -2.61457448  -2.35677818  -2.05909545  -1.72343644  -1.35226463\n",
            "  -0.9485811   -0.51590162  -0.05822672   0.41999512   0.91391061\n",
            "   1.41831093   1.92768649   2.43628669   2.93818398   3.42734153\n",
            "   3.89768376   4.34316892   4.75786287   5.1360132    5.47212274\n",
            "   5.76102172   5.99793747   6.178561     6.29910941   6.35638348\n",
            "   6.34781957   6.27153511   6.12636709   5.91190293   5.62850319\n",
            "   5.27731578   4.86028133   4.38012946   3.84036588   3.24525022\n",
            "   2.59976488   1.9095748    1.18097874   0.42085228  -0.36341679\n",
            "  -1.16400027  -1.97270765  -2.78106986  -3.58042781  -4.36202469\n",
            "  -5.11710117  -5.83699241  -6.51322582  -7.13761852  -7.70237336\n",
            "  -8.20017236  -8.62426658  -8.96856132  -9.22769553  -9.3971146\n",
            "  -9.47313548  -9.45300342  -9.33493933  -9.11817747  -8.80299241\n",
            "  -8.39071529  -7.88373862  -7.28550965  -6.6005121   -5.83423628\n",
            "  -4.99313774  -4.08458482  -3.11679531  -2.09876299  -1.04017448\n",
            "   0.04868268   1.1570199    2.27365447   3.38712238   4.48579588\n",
            "   5.55800473   6.59215971   7.57687716   8.50110325   9.35423652\n",
            "  10.1262475   10.80779395  11.39033046  11.8662112   12.22878455\n",
            "  12.47247849  12.59287578  12.58677787  12.45225684  12.18869449\n",
            "  11.79680816  11.27866268  10.63766824   9.878564     9.00738732\n",
            "   8.03142895   6.9591743    5.80023126   4.56524532   3.26580248\n",
            "   1.91432105   0.52393323  -0.89164247  -2.31823644  -3.74136993\n",
            "  -5.14640187  -6.51867941  -7.84369048  -9.10721675 -10.29548549\n",
            " -11.39531869 -12.39427773 -13.28080214 -14.04434094 -14.67547492\n",
            " -15.16602867 -15.50917095 -15.69950221 -15.73312822 -15.60771894\n",
            " -15.32255169 -14.87853808 -14.27823434 -13.52583451 -12.62714655\n",
            " -11.58955145 -10.42194539  -9.13466558  -7.73940027  -6.24908366\n",
            "  -4.67777675  -3.04053512  -1.35326495   0.36743138   2.10441864\n",
            "   3.84019936   5.55709009   7.23740149   8.86362041  10.41859212\n",
            "  11.88570075  13.24904611  14.49361496  15.6054449   16.57177917\n",
            "  17.38121053  18.02381279  18.49125831  18.7769203   18.87595858\n",
            "  18.78538775  18.50412697  18.03303066  17.3748994   16.53447108\n",
            "  15.51839191  14.33516747  12.99509423  11.51017187   9.89399732\n",
            "   8.16164124   6.32950824   4.41518203   2.43725688   0.4151572\n",
            "  -1.63105313  -3.6808699   -5.713554    -7.70834118  -9.64465412\n",
            " -11.50231446 -13.26175272 -14.9042139  -16.41195663 -17.76844373\n",
            " -18.95852214 -19.96859034 -20.78675129 -21.40294938 -21.80908968\n",
            " -21.99913818 -21.96920183 -21.71758737 -21.24483813 -20.55374833\n",
            " -19.6493544  -18.53890336 -17.23179826 -15.73952118 -14.07553421\n",
            " -12.25515947 -10.29543901  -8.21497601  -6.03375864  -3.77296837\n",
            "  -1.45477441   0.89788356   3.2615224    5.6123499    7.92650424\n",
            "  10.18029618  12.35045135  14.41435043  16.35026444  18.13758293\n",
            "  19.7570326   21.19088398  22.42314406  23.43973275  24.2286412\n",
            "  24.7800703   25.08654775  25.14302233  24.94693422  24.49826054\n",
            "  23.79953536  22.85584389  21.67479057  20.26644137  18.64324051\n",
            "  16.81990238  14.81327959  12.64220817  10.32733155   7.89090473\n",
            "   5.35658069   2.74918094   0.09445254  -2.58118617  -5.25090838\n",
            "  -7.88774784 -10.46487118 -12.95585091 -15.33493623 -17.57731893\n",
            " -19.65939164 -21.55899571 -23.25565617 -24.7308012  -25.96796395\n",
            " -26.95296426 -27.67406854 -28.12212595 -28.2906792  -28.17604893\n",
            " -27.77739036 -27.09672162 -26.13892326 -24.91170863 -23.42556536\n",
            " -21.69366836 -19.73176483 -17.55803252 -15.19291234 -12.6589169\n",
            "  -9.98041672  -7.18340625  -4.29525175  -1.34442375   1.63978364\n",
            "   4.6275435    7.58879418  10.49354182  13.31216405  16.01571198\n",
            "  18.57620727  20.96693136  23.16270375  25.14014653  26.87793233\n",
            "  28.35701309  29.56082725  30.47548299  31.08991568  31.39601771] [ 0.00000000e+00  9.98334166e-03  3.97338662e-02  8.86560620e-02\n",
            "  1.55767337e-01  2.39712769e-01  3.38785484e-01  4.50952381e-01\n",
            "  5.73884873e-01  7.04994219e-01  8.41470985e-01  9.80328096e-01\n",
            "  1.11844690e+00  1.25262564e+00  1.37962962e+00  1.49624248e+00\n",
            "  1.59931776e+00  1.68583018e+00  1.75292574e+00  1.79797017e+00\n",
            "  1.81859485e+00  1.81273967e+00  1.77869209e+00  1.71512199e+00\n",
            "  1.62111163e+00  1.49618036e+00  1.34030357e+00  1.15392568e+00\n",
            "  9.37966820e-01  6.93823055e-01  4.23360024e-01  1.28900054e-01\n",
            " -1.86797259e-01 -5.20560791e-01 -8.68839747e-01 -1.22774130e+00\n",
            " -1.59307360e+00 -1.96039372e+00 -2.32505999e+00 -2.68228802e+00\n",
            " -3.02720998e+00 -3.35493616e+00 -3.66061824e+00 -3.93951353e+00\n",
            " -4.18704913e+00 -4.39888553e+00 -4.57097862e+00 -4.69963931e+00\n",
            " -4.78159012e+00 -4.81401780e+00 -4.79462137e+00 -4.72165488e+00\n",
            " -4.59396421e+00 -4.41101744e+00 -4.17292823e+00 -3.88047179e+00\n",
            " -3.53509317e+00 -3.13890759e+00 -2.69469264e+00 -2.20587232e+00\n",
            " -1.67649299e+00 -1.11119128e+00 -5.15154297e-01  1.05927573e-01\n",
            "  7.45914911e-01  1.39827992e+00  2.05617300e+00  2.71249447e+00\n",
            "  3.35997079e+00  3.99123437e+00  4.59890619e+00  5.17568018e+00\n",
            "  5.71440862e+00  6.20818733e+00  6.65043991e+00  7.03499983e+00\n",
            "  7.35618951e+00  7.60889540e+00  7.78863809e+00  7.89163660e+00\n",
            "  7.91486597e+00  7.85610747e+00  7.71399056e+00  7.48802622e+00\n",
            "  7.17863083e+00  6.78714046e+00  6.31581504e+00  5.76783230e+00\n",
            "  5.14727130e+00  4.45908562e+00  3.70906637e+00  2.90379510e+00\n",
            "  2.05058721e+00  1.15742614e+00  2.32888999e-01 -7.13935644e-01\n",
            " -1.67353710e+00 -2.63607808e+00 -3.59149547e+00 -4.52960535e+00\n",
            " -5.44021111e+00 -6.31321355e+00 -7.13872181e+00 -7.90716384e+00\n",
            " -8.60939528e+00 -9.23680548e+00 -9.78141947e+00 -1.02359947e+01\n",
            " -1.05941113e+01 -1.08502552e+01 -1.09998923e+01 -1.10395337e+01\n",
            " -1.09667906e+01 -1.07804175e+01 -1.04803452e+01 -1.00677000e+01\n",
            " -9.54481170e+00 -8.91520793e+00 -8.18359600e+00 -7.35583164e+00\n",
            " -6.43887502e+00 -5.44073432e+00 -4.37039724e+00 -3.23775103e+00\n",
            " -2.05349178e+00 -8.29023717e-01  4.23650395e-01  1.69204693e+00\n",
            "  2.96332576e+00  4.22442026e+00  5.46217148e+00  6.66346518e+00\n",
            "  7.81537039e+00  8.90527784e+00  9.92103693e+00  1.08510898e+01\n",
            "  1.16846007e+01  1.24115800e+01  1.30230002e+01  1.35109043e+01\n",
            "  1.38685030e+01  1.40902624e+01  1.41719785e+01  1.41108391e+01\n",
            "  1.39054720e+01  1.35559783e+01  1.30639511e+01  1.24324784e+01\n",
            "  1.16661306e+01  1.07709321e+01  9.75431760e+00  8.62507273e+00\n",
            "  7.39326007e+00  6.07013077e+00  4.66802269e+00  3.20024597e+00\n",
            "  1.68095698e+00  1.25021985e-01 -1.45212823e+00 -3.03465144e+00\n",
            " -4.60645307e+00 -6.15134982e+00 -7.65323618e+00 -9.09625202e+00\n",
            " -1.04649496e+01 -1.17444581e+01 -1.29206445e+01 -1.39802677e+01\n",
            " -1.49111262e+01 -1.57021958e+01 -1.63437574e+01 -1.68275116e+01\n",
            " -1.71466811e+01 -1.72960977e+01 -1.72722732e+01 -1.70734551e+01\n",
            " -1.66996632e+01 -1.61527094e+01 -1.54361988e+01 -1.45555123e+01\n",
            " -1.35177704e+01 -1.23317792e+01 -1.10079574e+01 -9.55824719e+00\n",
            " -7.99600745e+00 -6.33589144e+00 -4.59371011e+00 -2.78628178e+00\n",
            " -9.31270049e-01  9.52988800e-01  2.84766698e+00  4.73363337e+00\n",
            "  6.59164663e+00  8.40255146e+00  1.01474758e+01  1.18080275e+01\n",
            "  1.33664870e+01  1.48059963e+01  1.61107400e+01  1.72661176e+01\n",
            "  1.82589050e+01  1.90774035e+01  1.97115745e+01  2.01531580e+01\n",
            "  2.03957752e+01  2.04350108e+01  2.02684779e+01  1.98958614e+01\n",
            "  1.93189409e+01  1.85415923e+01  1.75697684e+01  1.64114568e+01\n",
            "  1.50766179e+01  1.35771013e+01  1.19265421e+01  1.01402386e+01\n",
            "  8.23501062e+00  6.22904253e+00  4.14170953e+00  1.99339091e+00\n",
            " -1.94728804e-01 -2.40086876e+00 -4.60286854e+00 -6.77841078e+00\n",
            " -8.90524730e+00 -1.09614265e+01 -1.29255198e+01 -1.47768443e+01\n",
            " -1.64956804e+01 -1.80634807e+01 -1.94630693e+01 -2.06788282e+01\n",
            " -2.16968700e+01 -2.25051940e+01 -2.30938241e+01 -2.34549277e+01\n",
            " -2.35829134e+01 -2.34745068e+01 -2.31288030e+01 -2.25472954e+01\n",
            " -2.17338807e+01 -2.06948388e+01 -1.94387886e+01 -1.79766196e+01\n",
            " -1.63213996e+01 -1.44882595e+01 -1.24942561e+01 -1.03582146e+01\n",
            " -8.10055113e+00 -5.74307808e+00 -3.30879375e+00 -8.21658021e-01\n",
            "  1.69364343e+00  4.21194409e+00  6.70784844e+00  9.15598803e+00\n",
            "  1.15312792e+01  1.38091801e+01  1.59659436e+01  1.79788649e+01\n",
            "  1.98265197e+01  2.14889913e+01  2.29480843e+01  2.41875221e+01\n",
            "  2.51931265e+01  2.59529775e+01  2.64575510e+01  2.66998329e+01\n",
            "  2.66754096e+01  2.63825314e+01  2.58221501e+01  2.49979293e+01\n",
            "  2.39162273e+01  2.25860517e+01  2.10189881e+01  1.92291009e+01\n",
            "  1.72328089e+01  1.50487360e+01  1.26975380e+01  1.02017081e+01\n",
            "  7.58536207e+00  4.87400556e+00  2.09428557e+00 -7.26271386e-01\n",
            " -3.55953178e+00 -6.37703575e+00 -9.15028291e+00 -1.18510207e+01\n",
            " -1.44515319e+01 -1.69249191e+01 -1.92453826e+01 -2.13884889e+01\n",
            " -2.33314272e+01 -2.50532516e+01 -2.65351055e+01 -2.77604265e+01\n",
            " -2.87151297e+01 -2.93877664e+01 -2.97696578e+01 -2.98550014e+01\n",
            " -2.96409487e+01 -2.91276536e+01 -2.83182906e+01 -2.72190427e+01\n",
            " -2.58390590e+01 -2.41903808e+01 -2.22878395e+01 -2.01489244e+01\n",
            " -1.77936234e+01 -1.52442367e+01 -1.25251670e+01 -9.66268557e+00\n",
            " -6.68467926e+00 -3.62037882e+00 -5.00072086e-01]\n"
          ]
        }
      ]
    },
    {
      "cell_type": "markdown",
      "metadata": {
        "id": "qWDek3d3cOG_"
      },
      "source": [
        "#### 99. Given an integer n and a 2D array X, select from X the rows which can be interpreted as draws from a multinomial distribution with n degrees, i.e., the rows which only contain integers and which sum to n. (★★★) \n",
        "(**hint**: np.logical\\_and.reduce, np.mod)"
      ]
    },
    {
      "cell_type": "code",
      "execution_count": 101,
      "metadata": {
        "id": "Vr_D7RI8cOHA",
        "colab": {
          "base_uri": "https://localhost:8080/"
        },
        "outputId": "42fd1a26-3155-4d04-99b8-5d7ae65386c0"
      },
      "outputs": [
        {
          "output_type": "stream",
          "name": "stdout",
          "text": [
            "[[2. 0. 1. 1.]]\n"
          ]
        }
      ],
      "source": [
        "X = np.asarray([[1.0, 0.0, 3.0, 8.0],\n",
        "                [2.0, 0.0, 1.0, 1.0],\n",
        "                [1.5, 2.5, 1.0, 0.0]])\n",
        "n = 4\n",
        "M = np.logical_and.reduce(np.mod(X, 1) == 0, axis=-1)\n",
        "M &= (X.sum(axis=-1) == n)\n",
        "print(X[M])"
      ]
    },
    {
      "cell_type": "markdown",
      "metadata": {
        "id": "rYg-QbHJcOHA"
      },
      "source": [
        "#### 100. Compute bootstrapped 95% confidence intervals for the mean of a 1D array X (i.e., resample the elements of an array with replacement N times, compute the mean of each sample, and then compute percentiles over the means). (★★★) \n",
        "(**hint**: np.percentile)"
      ]
    },
    {
      "cell_type": "code",
      "execution_count": 102,
      "metadata": {
        "id": "kgh3SrQwcOHB",
        "colab": {
          "base_uri": "https://localhost:8080/"
        },
        "outputId": "ed1db619-7975-401d-abc1-885ddbc5e356"
      },
      "outputs": [
        {
          "output_type": "stream",
          "name": "stdout",
          "text": [
            "[-0.18129539  0.18499137]\n"
          ]
        }
      ],
      "source": [
        "X = np.random.randn(100) \n",
        "N = 1000 \n",
        "idx = np.random.randint(0, X.size, (N, X.size))\n",
        "means = X[idx].mean(axis=1)\n",
        "confint = np.percentile(means, [2.5, 97.5])\n",
        "print(confint)"
      ]
    }
  ]
}